{
 "cells": [
  {
   "cell_type": "code",
   "execution_count": 1,
   "metadata": {},
   "outputs": [],
   "source": [
    "#Import Dependencies\n",
    "import pandas as pd\n",
    "import numpy as np\n",
    "import requests\n",
    "import json\n",
    "import time\n",
    "import datetime\n",
    "from config import tmdb_key\n",
    "from pprint import pprint"
   ]
  },
  {
   "cell_type": "code",
   "execution_count": 7,
   "metadata": {},
   "outputs": [
    {
     "data": {
      "text/html": [
       "<div>\n",
       "<style scoped>\n",
       "    .dataframe tbody tr th:only-of-type {\n",
       "        vertical-align: middle;\n",
       "    }\n",
       "\n",
       "    .dataframe tbody tr th {\n",
       "        vertical-align: top;\n",
       "    }\n",
       "\n",
       "    .dataframe thead th {\n",
       "        text-align: right;\n",
       "    }\n",
       "</style>\n",
       "<table border=\"1\" class=\"dataframe\">\n",
       "  <thead>\n",
       "    <tr style=\"text-align: right;\">\n",
       "      <th></th>\n",
       "      <th>Title</th>\n",
       "      <th>Genre</th>\n",
       "      <th>Premiere</th>\n",
       "      <th>Runtime</th>\n",
       "      <th>IMDB Score</th>\n",
       "      <th>Language</th>\n",
       "    </tr>\n",
       "  </thead>\n",
       "  <tbody>\n",
       "    <tr>\n",
       "      <th>0</th>\n",
       "      <td>Enter the Anime</td>\n",
       "      <td>Documentary</td>\n",
       "      <td>August 5, 2019</td>\n",
       "      <td>58</td>\n",
       "      <td>2.5</td>\n",
       "      <td>English/Japanese</td>\n",
       "    </tr>\n",
       "    <tr>\n",
       "      <th>1</th>\n",
       "      <td>Dark Forces</td>\n",
       "      <td>Thriller</td>\n",
       "      <td>August 21, 2020</td>\n",
       "      <td>81</td>\n",
       "      <td>2.6</td>\n",
       "      <td>Spanish</td>\n",
       "    </tr>\n",
       "    <tr>\n",
       "      <th>2</th>\n",
       "      <td>The App</td>\n",
       "      <td>Science fiction/Drama</td>\n",
       "      <td>December 26, 2019</td>\n",
       "      <td>79</td>\n",
       "      <td>2.6</td>\n",
       "      <td>Italian</td>\n",
       "    </tr>\n",
       "    <tr>\n",
       "      <th>3</th>\n",
       "      <td>The Open House</td>\n",
       "      <td>Horror thriller</td>\n",
       "      <td>January 19, 2018</td>\n",
       "      <td>94</td>\n",
       "      <td>3.2</td>\n",
       "      <td>English</td>\n",
       "    </tr>\n",
       "    <tr>\n",
       "      <th>4</th>\n",
       "      <td>Kaali Khuhi</td>\n",
       "      <td>Mystery</td>\n",
       "      <td>October 30, 2020</td>\n",
       "      <td>90</td>\n",
       "      <td>3.4</td>\n",
       "      <td>Hindi</td>\n",
       "    </tr>\n",
       "  </tbody>\n",
       "</table>\n",
       "</div>"
      ],
      "text/plain": [
       "             Title                  Genre           Premiere  Runtime  \\\n",
       "0  Enter the Anime            Documentary     August 5, 2019       58   \n",
       "1      Dark Forces               Thriller    August 21, 2020       81   \n",
       "2          The App  Science fiction/Drama  December 26, 2019       79   \n",
       "3   The Open House        Horror thriller   January 19, 2018       94   \n",
       "4      Kaali Khuhi                Mystery   October 30, 2020       90   \n",
       "\n",
       "   IMDB Score          Language  \n",
       "0         2.5  English/Japanese  \n",
       "1         2.6           Spanish  \n",
       "2         2.6           Italian  \n",
       "3         3.2           English  \n",
       "4         3.4             Hindi  "
      ]
     },
     "execution_count": 7,
     "metadata": {},
     "output_type": "execute_result"
    }
   ],
   "source": [
    "#Read and Display CSV file\n",
    "flix = pd.read_csv('../Rutgers_DS_Project_2/NetflixOriginals.csv')\n",
    "flix.head()"
   ]
  },
  {
   "cell_type": "code",
   "execution_count": 8,
   "metadata": {},
   "outputs": [
    {
     "data": {
      "text/html": [
       "<div>\n",
       "<style scoped>\n",
       "    .dataframe tbody tr th:only-of-type {\n",
       "        vertical-align: middle;\n",
       "    }\n",
       "\n",
       "    .dataframe tbody tr th {\n",
       "        vertical-align: top;\n",
       "    }\n",
       "\n",
       "    .dataframe thead th {\n",
       "        text-align: right;\n",
       "    }\n",
       "</style>\n",
       "<table border=\"1\" class=\"dataframe\">\n",
       "  <thead>\n",
       "    <tr style=\"text-align: right;\">\n",
       "      <th></th>\n",
       "      <th>Title</th>\n",
       "      <th>Genre</th>\n",
       "      <th>Premiere</th>\n",
       "      <th>Runtime</th>\n",
       "      <th>IMDB Score</th>\n",
       "      <th>Language</th>\n",
       "    </tr>\n",
       "  </thead>\n",
       "  <tbody>\n",
       "    <tr>\n",
       "      <th>0</th>\n",
       "      <td>Enter the Anime</td>\n",
       "      <td>Documentary</td>\n",
       "      <td>2019-08-05</td>\n",
       "      <td>58</td>\n",
       "      <td>2.5</td>\n",
       "      <td>English/Japanese</td>\n",
       "    </tr>\n",
       "    <tr>\n",
       "      <th>1</th>\n",
       "      <td>Dark Forces</td>\n",
       "      <td>Thriller</td>\n",
       "      <td>2020-08-21</td>\n",
       "      <td>81</td>\n",
       "      <td>2.6</td>\n",
       "      <td>Spanish</td>\n",
       "    </tr>\n",
       "    <tr>\n",
       "      <th>2</th>\n",
       "      <td>The App</td>\n",
       "      <td>Science fiction/Drama</td>\n",
       "      <td>2019-12-26</td>\n",
       "      <td>79</td>\n",
       "      <td>2.6</td>\n",
       "      <td>Italian</td>\n",
       "    </tr>\n",
       "    <tr>\n",
       "      <th>3</th>\n",
       "      <td>The Open House</td>\n",
       "      <td>Horror thriller</td>\n",
       "      <td>2018-01-19</td>\n",
       "      <td>94</td>\n",
       "      <td>3.2</td>\n",
       "      <td>English</td>\n",
       "    </tr>\n",
       "    <tr>\n",
       "      <th>4</th>\n",
       "      <td>Kaali Khuhi</td>\n",
       "      <td>Mystery</td>\n",
       "      <td>2020-10-30</td>\n",
       "      <td>90</td>\n",
       "      <td>3.4</td>\n",
       "      <td>Hindi</td>\n",
       "    </tr>\n",
       "  </tbody>\n",
       "</table>\n",
       "</div>"
      ],
      "text/plain": [
       "             Title                  Genre   Premiere  Runtime  IMDB Score  \\\n",
       "0  Enter the Anime            Documentary 2019-08-05       58         2.5   \n",
       "1      Dark Forces               Thriller 2020-08-21       81         2.6   \n",
       "2          The App  Science fiction/Drama 2019-12-26       79         2.6   \n",
       "3   The Open House        Horror thriller 2018-01-19       94         3.2   \n",
       "4      Kaali Khuhi                Mystery 2020-10-30       90         3.4   \n",
       "\n",
       "           Language  \n",
       "0  English/Japanese  \n",
       "1           Spanish  \n",
       "2           Italian  \n",
       "3           English  \n",
       "4             Hindi  "
      ]
     },
     "execution_count": 8,
     "metadata": {},
     "output_type": "execute_result"
    }
   ],
   "source": [
    "#Convert 'Premiere' column into datetime format and display updated df\n",
    "full_dates = flix['Premiere']\n",
    "converted = pd.to_datetime(full_dates)\n",
    "flix['Premiere'] = converted\n",
    "flix.head()"
   ]
  },
  {
   "cell_type": "code",
   "execution_count": 3,
   "metadata": {},
   "outputs": [
    {
     "data": {
      "text/plain": [
       "False"
      ]
     },
     "execution_count": 3,
     "metadata": {},
     "output_type": "execute_result"
    }
   ],
   "source": [
    "#Verify whether any values are missing in df\n",
    "flix.isnull().values.any()"
   ]
  },
  {
   "cell_type": "code",
   "execution_count": 4,
   "metadata": {},
   "outputs": [
    {
     "name": "stdout",
     "output_type": "stream",
     "text": [
      "<class 'pandas.core.frame.DataFrame'>\n",
      "RangeIndex: 584 entries, 0 to 583\n",
      "Data columns (total 6 columns):\n",
      " #   Column      Non-Null Count  Dtype  \n",
      "---  ------      --------------  -----  \n",
      " 0   Title       584 non-null    object \n",
      " 1   Genre       584 non-null    object \n",
      " 2   Premiere    584 non-null    object \n",
      " 3   Runtime     584 non-null    int64  \n",
      " 4   IMDB Score  584 non-null    float64\n",
      " 5   Language    584 non-null    object \n",
      "dtypes: float64(1), int64(1), object(4)\n",
      "memory usage: 27.5+ KB\n"
     ]
    }
   ],
   "source": [
    "#Verify value number in df columns\n",
    "flix.info()"
   ]
  },
  {
   "cell_type": "markdown",
   "metadata": {},
   "source": [
    "## Perform API Calls"
   ]
  },
  {
   "cell_type": "code",
   "execution_count": 5,
   "metadata": {},
   "outputs": [],
   "source": [
    "#Save config information\n",
    "url = \"https://api.themoviedb.org/3/search/movie?\""
   ]
  },
  {
   "cell_type": "code",
   "execution_count": 6,
   "metadata": {},
   "outputs": [
    {
     "name": "stdout",
     "output_type": "stream",
     "text": [
      "Beginning Data Retrieval\n",
      "-----------------------------\n",
      "\n",
      "Processing Record 1 of Set 1 | Enter the Anime\n",
      "Processing Record 2 of Set 1 | Dark Forces\n",
      "Processing Record 3 of Set 1 | The App\n",
      "Processing Record 4 of Set 1 | The Open House\n",
      "Processing Record 5 of Set 1 | Kaali Khuhi\n",
      "Processing Record 6 of Set 1 | Drive\n",
      "Processing Record 7 of Set 1 | Leyla Everlasting\n",
      "Processing Record 8 of Set 1 | The Last Days of American Crime\n",
      "Processing Record 9 of Set 1 | Paradox\n",
      "Processing Record 10 of Set 1 | Sardar Ka Grandson\n",
      "Processing Record 11 of Set 1 | Searching for Sheela\n",
      "Processing Record 12 of Set 1 | The Call\n",
      "Processing Record 13 of Set 1 | Whipped\n",
      "Processing Record 14 of Set 1 | All Because of You\n",
      "Processing Record 15 of Set 1 | Mercy\n",
      "Processing Record 16 of Set 1 | After the Raid\n",
      "Processing Record 17 of Set 1 | Ghost Stories\n",
      "Processing Record 18 of Set 1 | The Last Thing He Wanted\n",
      "Processing Record 19 of Set 1 | What Happened to Mr. Cha?\n",
      "Processing Record 20 of Set 1 | Death Note\n",
      "Processing Record 21 of Set 1 | Hello Privilege. It's Me, Chelsea\n",
      "Processing Record 22 of Set 1 | Secret Obsession\n",
      "Processing Record 23 of Set 1 | Sextuplets\n",
      "Processing Record 24 of Set 1 | The Girl on the Train\n",
      "Processing Record 25 of Set 1 | Thunder Force\n",
      "Processing Record 26 of Set 1 | Fatal Affair\n",
      "Processing Record 27 of Set 1 | Just Say Yes\n",
      "Processing Record 28 of Set 1 | Seriously Single\n",
      "Processing Record 29 of Set 1 | The Misadventures of Hedi and Cokeman\n",
      "Processing Record 30 of Set 1 | 5 Star Christmas\n",
      "Processing Record 31 of Set 1 | After Maria\n",
      "Processing Record 32 of Set 1 | I Am the Pretty Thing That Lives in the House\n",
      "Processing Record 33 of Set 1 | Paris Is Us\n",
      "Movie not found. Skipping...\n",
      "Processing Record 34 of Set 1 | Rattlesnake\n",
      "Processing Record 35 of Set 1 | The Players\n",
      "Processing Record 36 of Set 1 | We Are One\n",
      "Processing Record 37 of Set 1 | Finding Agnes\n",
      "Processing Record 38 of Set 1 | IO\n",
      "Processing Record 39 of Set 1 | Sentinelle\n",
      "Processing Record 40 of Set 1 | Sol Levante\n",
      "Processing Record 41 of Set 1 | The Binding\n",
      "Processing Record 42 of Set 1 | We Can Be Heroes\n",
      "Processing Record 43 of Set 1 | Christmas Crossfire\n",
      "Processing Record 44 of Set 1 | Coin Heist\n",
      "Processing Record 45 of Set 1 | Mrs. Serial Killer\n",
      "Processing Record 46 of Set 1 | Nobody Sleeps in the Woods Tonight\n",
      "Processing Record 47 of Set 1 | Take the 10\n",
      "Processing Record 48 of Set 1 | The Main Event\n",
      "Processing Record 49 of Set 1 | The Ridiculous 6\n",
      "Processing Record 50 of Set 1 | Earth and Blood\n",
      "Processing Record 51 of Set 1 | Fearless\n",
      "Processing Record 1 of Set 2 | The Day of the Lord\n",
      "Processing Record 2 of Set 2 | Airplane Mode\n",
      "Processing Record 3 of Set 2 | How It Ends\n",
      "Processing Record 4 of Set 2 | Love Like the Falling Rain\n",
      "Processing Record 5 of Set 2 | Rebirth\n",
      "Processing Record 6 of Set 2 | Squared Love\n",
      "Processing Record 7 of Set 2 | Cadaver\n",
      "Processing Record 8 of Set 2 | Clinical\n",
      "Processing Record 9 of Set 2 | Coffee & Kareem\n",
      "Processing Record 10 of Set 2 | Dude\n",
      "Processing Record 11 of Set 2 | Geez & Ann\n",
      "Processing Record 12 of Set 2 | The Larva Island Movie\n",
      "Movie not found. Skipping...\n",
      "Processing Record 13 of Set 2 | American Factory: A Conversation with the Obamas \n",
      "Processing Record 14 of Set 2 | Desperados\n",
      "Processing Record 15 of Set 2 | Dolly Parton's Christmas on the Square\n",
      "Processing Record 16 of Set 2 | Father of the Year\n",
      "Processing Record 17 of Set 2 | Firebrand\n",
      "Processing Record 18 of Set 2 | Ghost Lab\n",
      "Processing Record 19 of Set 2 | Girlfriend's Day\n",
      "Processing Record 20 of Set 2 | Handsome: A Netflix Mystery Movie\n",
      "Processing Record 21 of Set 2 | Hubie Halloween\n",
      "Processing Record 22 of Set 2 | Ibiza\n",
      "Processing Record 23 of Set 2 | Rim of the World\n",
      "Processing Record 24 of Set 2 | Sandy Wexler\n",
      "Processing Record 25 of Set 2 | See You Yesterday\n",
      "Processing Record 26 of Set 2 | Still Laugh-In: The Stars Celebrate\n",
      "Processing Record 27 of Set 2 | Strip Down, Rise Up\n",
      "Processing Record 28 of Set 2 | Tall Girl\n",
      "Processing Record 29 of Set 2 | The Beast\n",
      "Processing Record 30 of Set 2 | The Week Of\n",
      "Processing Record 31 of Set 2 | A Christmas Prince: The Royal Wedding\n",
      "Processing Record 32 of Set 2 | Back to School\n",
      "Processing Record 33 of Set 2 | Dangerous Lies\n",
      "Processing Record 34 of Set 2 | Gunjan Saxena: The Kargil Girl\n",
      "Processing Record 35 of Set 2 | Intuition\n",
      "Processing Record 36 of Set 2 | The Most Assassinated Woman in the World\n",
      "Processing Record 37 of Set 2 | Things Heard & Seen\n",
      "Processing Record 38 of Set 2 | To Each, Her Own\n",
      "Processing Record 39 of Set 2 | Who Would You Take to a Deserted Island?\n",
      "Processing Record 40 of Set 2 | XOXO\n",
      "Processing Record 41 of Set 2 | A Babysitter's Guide to Monster Hunting\n",
      "Processing Record 42 of Set 2 | A Christmas Prince: The Royal Baby\n",
      "Processing Record 43 of Set 2 | Despite Everything\n",
      "Processing Record 44 of Set 2 | Dolly Kitty and Those Twinkling Stars\n",
      "Processing Record 45 of Set 2 | Freaks: You're One of Us\n",
      "Processing Record 46 of Set 2 | Game Over, Man!\n",
      "Processing Record 47 of Set 2 | Guilty\n",
      "Processing Record 48 of Set 2 | In the Tall Grass\n",
      "Processing Record 49 of Set 2 | Madame Claude\n",
      "Processing Record 50 of Set 2 | Naked\n",
      "Processing Record 51 of Set 2 | Outside the Wire\n"
     ]
    },
    {
     "ename": "KeyboardInterrupt",
     "evalue": "",
     "output_type": "error",
     "traceback": [
      "\u001b[0;31m---------------------------------------------------------------------------\u001b[0m",
      "\u001b[0;31mKeyboardInterrupt\u001b[0m                         Traceback (most recent call last)",
      "\u001b[0;32m<ipython-input-6-bc8c39a1bfb6>\u001b[0m in \u001b[0;36m<module>\u001b[0;34m\u001b[0m\n\u001b[1;32m     33\u001b[0m             \u001b[0mcounter\u001b[0m\u001b[0;34m+=\u001b[0m\u001b[0;36m1\u001b[0m\u001b[0;34m\u001b[0m\u001b[0;34m\u001b[0m\u001b[0m\n\u001b[1;32m     34\u001b[0m             \u001b[0mprint\u001b[0m\u001b[0;34m(\u001b[0m\u001b[0;34mf\"Processing Record {counter} of Set {sets} | {movie}\"\u001b[0m\u001b[0;34m)\u001b[0m\u001b[0;34m\u001b[0m\u001b[0;34m\u001b[0m\u001b[0m\n\u001b[0;32m---> 35\u001b[0;31m             \u001b[0mtime\u001b[0m\u001b[0;34m.\u001b[0m\u001b[0msleep\u001b[0m\u001b[0;34m(\u001b[0m\u001b[0;36m1\u001b[0m\u001b[0;34m)\u001b[0m\u001b[0;34m\u001b[0m\u001b[0;34m\u001b[0m\u001b[0m\n\u001b[0m\u001b[1;32m     36\u001b[0m     \u001b[0;31m#Should the movie not be found, print exception statement\u001b[0m\u001b[0;34m\u001b[0m\u001b[0;34m\u001b[0m\u001b[0;34m\u001b[0m\u001b[0m\n\u001b[1;32m     37\u001b[0m     \u001b[0;32mexcept\u001b[0m\u001b[0;34m(\u001b[0m\u001b[0mKeyError\u001b[0m\u001b[0;34m,\u001b[0m \u001b[0mIndexError\u001b[0m\u001b[0;34m)\u001b[0m\u001b[0;34m:\u001b[0m\u001b[0;34m\u001b[0m\u001b[0;34m\u001b[0m\u001b[0m\n",
      "\u001b[0;31mKeyboardInterrupt\u001b[0m: "
     ]
    }
   ],
   "source": [
    "#Create Movie ID list\n",
    "flix_id_list = []\n",
    "release_date = []\n",
    "title = []\n",
    "counter = 0\n",
    "sets = 1\n",
    "\n",
    "#Movie list\n",
    "movies = flix['Title']\n",
    "\n",
    "#Begin Retrieval\n",
    "print(f\"Beginning Data Retrieval\\n\"  \n",
    "f\"-----------------------------\\n\")\n",
    "\n",
    "#Run loop through movie list \n",
    "for movie in movies:\n",
    "    #Build partial query URL\n",
    "    query_url = f\"{url}api_key={tmdb_key}&query={movie}\"\n",
    "    #Response from API requests\n",
    "    response = requests.get(query_url).json()\n",
    "    #Call and creation of list\n",
    "    try:\n",
    "        #Add data to list\n",
    "        title.append(response['results'][0]['title'])\n",
    "        flix_id_list.append(response['results'][0]['id'])\n",
    "        release_date.append(response['results'][0]['release_date'])\n",
    "        #Populate counters\n",
    "        if counter>50:\n",
    "            counter=0\n",
    "            sets+=1\n",
    "            time.sleep(1)\n",
    "        else:\n",
    "            counter+=1\n",
    "            print(f\"Processing Record {counter} of Set {sets} | {movie}\")\n",
    "            time.sleep(1)\n",
    "    #Should the movie not be found, print exception statement\n",
    "    except(KeyError, IndexError):\n",
    "        print(f\"Movie not found. Skipping...\") \n",
    "#Close of loop\n",
    "print(f\"-----------------------------\\n\"\n",
    "f\"Data Retrieval Complete\\n\"      \n",
    "f\"-----------------------------\\n\")"
   ]
  },
  {
   "cell_type": "code",
   "execution_count": 9,
   "metadata": {},
   "outputs": [
    {
     "data": {
      "text/plain": [
       "{'page': 1,\n",
       " 'results': [{'adult': False,\n",
       "   'backdrop_path': '/lOSdUkGQmbAl5JQ3QoHqBZUbZhC.jpg',\n",
       "   'genre_ids': [53, 28, 878],\n",
       "   'id': 775996,\n",
       "   'original_language': 'en',\n",
       "   'original_title': 'Outside the Wire',\n",
       "   'overview': 'In the near future, a drone pilot is sent into a deadly militarized zone and must work with an android officer to locate a doomsday device.',\n",
       "   'popularity': 394.591,\n",
       "   'poster_path': '/6XYLiMxHAaCsoyrVo38LBWMw2p8.jpg',\n",
       "   'release_date': '2021-01-15',\n",
       "   'title': 'Outside the Wire',\n",
       "   'video': False,\n",
       "   'vote_average': 6.4,\n",
       "   'vote_count': 1150},\n",
       "  {'adult': False,\n",
       "   'backdrop_path': None,\n",
       "   'genre_ids': [10752, 18],\n",
       "   'id': 787742,\n",
       "   'original_language': 'en',\n",
       "   'original_title': 'Outside the Wire',\n",
       "   'overview': 'A female Australian soldier cut off from her team, lies trapped in a collapsed building behind enemy lines. With a broken leg and minimal supplies, she is on her own until the unlikely arrival of a frightened 10 year old boy wielding a rifle, who helps her maintain survival through their developing friendship.',\n",
       "   'popularity': 0.879,\n",
       "   'poster_path': '/rBWy3MicOIGbxA0AsBK8VenWKVR.jpg',\n",
       "   'release_date': '2016-07-01',\n",
       "   'title': 'Outside the Wire',\n",
       "   'video': False,\n",
       "   'vote_average': 7,\n",
       "   'vote_count': 1},\n",
       "  {'adult': False,\n",
       "   'backdrop_path': None,\n",
       "   'genre_ids': [28],\n",
       "   'id': 828064,\n",
       "   'original_language': 'en',\n",
       "   'original_title': 'Outside the Wire',\n",
       "   'overview': '',\n",
       "   'popularity': 0.6,\n",
       "   'poster_path': '/zvNfKF8D6qE3nvDeastu2q5wB6w.jpg',\n",
       "   'release_date': '',\n",
       "   'title': 'Outside the Wire',\n",
       "   'video': False,\n",
       "   'vote_average': 0,\n",
       "   'vote_count': 0},\n",
       "  {'adult': False,\n",
       "   'backdrop_path': None,\n",
       "   'genre_ids': [99],\n",
       "   'id': 290951,\n",
       "   'original_language': 'en',\n",
       "   'original_title': 'Outside The Wire: The Forgotten Children Of Afghanistan',\n",
       "   'overview': 'The mission: Capture U.S. and NATO forces on camera giving food, water, clothing, blankets, and medical supplies to widows and orphans in refugee camps and villages. Most of the relief aid comes from a grassroots effort in America during the past five years by a courageous Air Force intelligence officer, Col. Victor Kuchar, who is the highest ranking officer to regularly travel into the tribal regions. Col. Kuchar, a Catholic from a small Michigan parish, has captured the hearts and minds of the youngsters, as well as the respect of the elders, mostly Pashtun, or Sunni Muslims, who call him \"Mullah\" (a local leader). The interaction between U.S. Forces and these forgotten family members of fighters killed or maimed helping drive out the Taliban, post 9/11, and who continue at our side in the war on terror against Al-Qaeda and other Muslim extremist groups, is both heartbreaking and heartwarming.',\n",
       "   'popularity': 0.6,\n",
       "   'poster_path': '/2TtirRsaJ304fhuiqD5poWBTQdz.jpg',\n",
       "   'release_date': '2011-03-29',\n",
       "   'title': 'Outside The Wire: The Forgotten Children Of Afghanistan',\n",
       "   'video': False,\n",
       "   'vote_average': 0,\n",
       "   'vote_count': 0}],\n",
       " 'total_pages': 1,\n",
       " 'total_results': 4}"
      ]
     },
     "execution_count": 9,
     "metadata": {},
     "output_type": "execute_result"
    }
   ],
   "source": [
    "#Test\n",
    "response"
   ]
  },
  {
   "cell_type": "code",
   "execution_count": 10,
   "metadata": {},
   "outputs": [
    {
     "name": "stdout",
     "output_type": "stream",
     "text": [
      "[{'adult': False,\n",
      "  'backdrop_path': '/lOSdUkGQmbAl5JQ3QoHqBZUbZhC.jpg',\n",
      "  'genre_ids': [53, 28, 878],\n",
      "  'id': 775996,\n",
      "  'original_language': 'en',\n",
      "  'original_title': 'Outside the Wire',\n",
      "  'overview': 'In the near future, a drone pilot is sent into a deadly '\n",
      "              'militarized zone and must work with an android officer to '\n",
      "              'locate a doomsday device.',\n",
      "  'popularity': 394.591,\n",
      "  'poster_path': '/6XYLiMxHAaCsoyrVo38LBWMw2p8.jpg',\n",
      "  'release_date': '2021-01-15',\n",
      "  'title': 'Outside the Wire',\n",
      "  'video': False,\n",
      "  'vote_average': 6.4,\n",
      "  'vote_count': 1150},\n",
      " {'adult': False,\n",
      "  'backdrop_path': None,\n",
      "  'genre_ids': [10752, 18],\n",
      "  'id': 787742,\n",
      "  'original_language': 'en',\n",
      "  'original_title': 'Outside the Wire',\n",
      "  'overview': 'A female Australian soldier cut off from her team, lies trapped '\n",
      "              'in a collapsed building behind enemy lines. With a broken leg '\n",
      "              'and minimal supplies, she is on her own until the unlikely '\n",
      "              'arrival of a frightened 10 year old boy wielding a rifle, who '\n",
      "              'helps her maintain survival through their developing '\n",
      "              'friendship.',\n",
      "  'popularity': 0.879,\n",
      "  'poster_path': '/rBWy3MicOIGbxA0AsBK8VenWKVR.jpg',\n",
      "  'release_date': '2016-07-01',\n",
      "  'title': 'Outside the Wire',\n",
      "  'video': False,\n",
      "  'vote_average': 7,\n",
      "  'vote_count': 1},\n",
      " {'adult': False,\n",
      "  'backdrop_path': None,\n",
      "  'genre_ids': [28],\n",
      "  'id': 828064,\n",
      "  'original_language': 'en',\n",
      "  'original_title': 'Outside the Wire',\n",
      "  'overview': '',\n",
      "  'popularity': 0.6,\n",
      "  'poster_path': '/zvNfKF8D6qE3nvDeastu2q5wB6w.jpg',\n",
      "  'release_date': '',\n",
      "  'title': 'Outside the Wire',\n",
      "  'video': False,\n",
      "  'vote_average': 0,\n",
      "  'vote_count': 0},\n",
      " {'adult': False,\n",
      "  'backdrop_path': None,\n",
      "  'genre_ids': [99],\n",
      "  'id': 290951,\n",
      "  'original_language': 'en',\n",
      "  'original_title': 'Outside The Wire: The Forgotten Children Of Afghanistan',\n",
      "  'overview': 'The mission: Capture U.S. and NATO forces on camera giving '\n",
      "              'food, water, clothing, blankets, and medical supplies to widows '\n",
      "              'and orphans in refugee camps and villages. Most of the relief '\n",
      "              'aid comes from a grassroots effort in America during the past '\n",
      "              'five years by a courageous Air Force intelligence officer, Col. '\n",
      "              'Victor Kuchar, who is the highest ranking officer to regularly '\n",
      "              'travel into the tribal regions. Col. Kuchar, a Catholic from a '\n",
      "              'small Michigan parish, has captured the hearts and minds of the '\n",
      "              'youngsters, as well as the respect of the elders, mostly '\n",
      "              'Pashtun, or Sunni Muslims, who call him \"Mullah\" (a local '\n",
      "              'leader). The interaction between U.S. Forces and these '\n",
      "              'forgotten family members of fighters killed or maimed helping '\n",
      "              'drive out the Taliban, post 9/11, and who continue at our side '\n",
      "              'in the war on terror against Al-Qaeda and other Muslim '\n",
      "              'extremist groups, is both heartbreaking and heartwarming.',\n",
      "  'popularity': 0.6,\n",
      "  'poster_path': '/2TtirRsaJ304fhuiqD5poWBTQdz.jpg',\n",
      "  'release_date': '2011-03-29',\n",
      "  'title': 'Outside The Wire: The Forgotten Children Of Afghanistan',\n",
      "  'video': False,\n",
      "  'vote_average': 0,\n",
      "  'vote_count': 0}]\n"
     ]
    }
   ],
   "source": [
    "#Test\n",
    "pprint(response['results'])"
   ]
  },
  {
   "cell_type": "code",
   "execution_count": null,
   "metadata": {},
   "outputs": [],
   "source": [
    "#Test\n",
    "result = []\n",
    "for key in response['results']:\n",
    "    if result "
   ]
  },
  {
   "cell_type": "code",
   "execution_count": null,
   "metadata": {},
   "outputs": [],
   "source": [
    "#Test\n",
    "# response['results']['title']"
   ]
  },
  {
   "cell_type": "code",
   "execution_count": null,
   "metadata": {},
   "outputs": [],
   "source": [
    "#Converting Raw data to df\n",
    "pulled_flix_df = pd.DataFrame({\n",
    "    \"Pulled_ID\": flix_id_list,\n",
    "    \"Pulled_Movie_Name\": title,\n",
    "    \"Pulled_Release_Date\": release_date\n",
    "})\n",
    "\n",
    "#Show df\n",
    "pulled_flix_df\n",
    "\n",
    "#Add empty fields to df\n",
    "pulled_flix_df['Budget'] = ''\n",
    "pulled_flix_df['Revenue'] = ''\n",
    "\n",
    "#Show df\n",
    "pulled_flix_df"
   ]
  },
  {
   "cell_type": "code",
   "execution_count": null,
   "metadata": {},
   "outputs": [],
   "source": [
    "#Save to CSV\n",
    "pulled_flix_df.to_csv('PulledTMDBData.csv')"
   ]
  },
  {
   "cell_type": "code",
   "execution_count": null,
   "metadata": {},
   "outputs": [],
   "source": [
    "url = f\"https://api.themoviedb.org/3/movie/\"\n",
    "\n",
    "#Created list\n",
    "Budget = []\n",
    "Revenue = []\n",
    "drop_index = []\n",
    "\n",
    "#Start for loop to go through each row and retrieve movie financial data\n",
    "for index, row in pulled_flix_df.iterrows():\n",
    "    movie = row['Pulled_Movie_Name']\n",
    "    movie_id = row['Pulled_ID']\n",
    "    #Build partial query URL\n",
    "    query_url = f\"{url}{movie_id}?api_key={tmdb_key}\"\n",
    "    #Response from API requests\n",
    "    response = requests.get(query_url).json()\n",
    "    try:\n",
    "        print(f\"The budget and revenue for {movie} is {response['budget']} and {response['revenue']}, respectively.\")\n",
    "        if response['original_title'] != '':\n",
    "            pulled_flix_df.loc[index,'Budget'] = response['budget']\n",
    "            pulled_flix_df.loc[index,'Revenue'] = response['revenue']\n",
    "    except (KeyError, IndexError):\n",
    "        drop_index.append(index)\n",
    "        print('Missing field/result...skipping.')\n",
    "    print('-'*10)\n",
    "    time.sleep(1)\n",
    "print(f'-----End of Search-----')"
   ]
  },
  {
   "cell_type": "code",
   "execution_count": null,
   "metadata": {},
   "outputs": [],
   "source": [
    "#Create new \"Profit\" column and display df\n",
    "clean_pulled = pulled_flix_df\n",
    "clean_pulled['Profit'] = clean_pulled['Revenue']-clean_pulled['Budget']\n",
    "clean_pulled"
   ]
  },
  {
   "cell_type": "code",
   "execution_count": null,
   "metadata": {},
   "outputs": [],
   "source": [
    "#Update Pulled Data CSV\n",
    "clean_pulled.to_csv('PulledTMDBData.csv')"
   ]
  },
  {
   "cell_type": "code",
   "execution_count": null,
   "metadata": {},
   "outputs": [],
   "source": [
    "clean_pulled['Preformer'] = ''\n",
    "clean_pulled['Gender'] = ''\n",
    "clean_pulled.head()"
   ]
  },
  {
   "cell_type": "code",
   "execution_count": null,
   "metadata": {},
   "outputs": [],
   "source": [
    "url = f\"https://api.themoviedb.org/3/movie/\"\n",
    "\n",
    "#Created list\n",
    "gender = []\n",
    "preformer = []\n",
    "drop_index = []\n",
    "\n",
    "#Start for loop to go through each row and retrieve preformer data\n",
    "for index, row in pulled_flix_df.iterrows():\n",
    "    movie_id = row['Pulled_ID']\n",
    "    movie = row['Pulled_Movie_Name']\n",
    "    #Build partial query URL\n",
    "    query_url = f\"{url}{movie_id}/credits?api_key={tmdb_key}\"\n",
    "    #Response from API requests\n",
    "    response = requests.get(query_url).json()\n",
    "    try:\n",
    "        print(f\"The preformer in {movie}, is {response['cast'][0]['name']}. Their gender is characterized as, {response['cast'][0]['gender']}.\")\n",
    "        if response['cast'][0]['name'] != '':\n",
    "            clean_pulled.loc[index,'Preformer'] = response['cast'][0]['name']\n",
    "            clean_pulled.loc[index,'Gender'] = response['cast'][0]['gender']\n",
    "    except (KeyError, IndexError):\n",
    "        drop_index.append(index)\n",
    "        print('Missing field/result...skipping.')\n",
    "    print('-'*10)\n",
    "    time.sleep(1)\n",
    "print(f'-----End of Search-----')"
   ]
  },
  {
   "cell_type": "code",
   "execution_count": null,
   "metadata": {},
   "outputs": [],
   "source": [
    "#Delete the 'performer' field show df\n",
    "#Gender: 2 - Male, 1 - Female, 0 - Unknown\n",
    "clean_pulled.head()"
   ]
  },
  {
   "cell_type": "code",
   "execution_count": null,
   "metadata": {},
   "outputs": [],
   "source": [
    "#Update Pulled Data CSV\n",
    "clean_pulled.to_csv('PulledTMDBData.csv')"
   ]
  },
  {
   "cell_type": "code",
   "execution_count": null,
   "metadata": {},
   "outputs": [],
   "source": [
    "new_clean_pulled = clean_pulled"
   ]
  },
  {
   "cell_type": "markdown",
   "metadata": {},
   "source": [
    "# Start here guys!!!!"
   ]
  },
  {
   "cell_type": "raw",
   "metadata": {},
   "source": [
    "Unfortunately, I wasn't able to rename the 'Pulled_Movie_Name' column in the clean_pulled df below. Please see if you can do so, in order to merge the 2 df's (the other is 'flix'). Once the df's are merged you can proceed to deleting any rows with null values. At that point we need to validate that the API pulls are consistent with the Netflix.csv(i.e. or flix df). In order to validate, make sure that both \"Pulled_Release_Date\" and \"Premiere\" columns are the same. Should dates be found to be inconsistent, we can look into removing those rows altogether (or running another API pull on the inconsistent data set, which should be smaller and merging it back into the larger, more consistent data set). Sorry I couldn't get us further along, but I think we've got a decent start here. Will be in commuinication later today, for an update.\n",
    "\n",
    "-Lovensky"
   ]
  },
  {
   "cell_type": "code",
   "execution_count": null,
   "metadata": {},
   "outputs": [],
   "source": [
    "#Identify field dtypes\n",
    "new_clean_pulled.info()"
   ]
  },
  {
   "cell_type": "code",
   "execution_count": null,
   "metadata": {},
   "outputs": [],
   "source": [
    "#Rename 'Pulled_Movie_Name' column in clean_pulled df\n",
    "ncp_df = new_clean_pulled.rename(columns={\"Pulled_Movie_Name\": \"Title\"})"
   ]
  },
  {
   "cell_type": "code",
   "execution_count": null,
   "metadata": {},
   "outputs": [],
   "source": [
    "#Display ncp_df\n",
    "ncp_df.head()"
   ]
  },
  {
   "cell_type": "code",
   "execution_count": null,
   "metadata": {},
   "outputs": [],
   "source": [
    "#Merge 'flix' df and 'clean_pulled' df on movie titles, in order to verify that \"movie name\" \n",
    "#and \"release dates\" match and display\n",
    "merged_df = flix.merge(ncp_df, how='inner', on='Title')\n",
    "merged_df"
   ]
  },
  {
   "cell_type": "code",
   "execution_count": null,
   "metadata": {},
   "outputs": [],
   "source": [
    "#Identify field dtypes\n",
    "merged_df.info()"
   ]
  },
  {
   "cell_type": "code",
   "execution_count": null,
   "metadata": {},
   "outputs": [],
   "source": [
    "#df of validated API pulls\n",
    "valid_df = merged_df[merged_df['Premiere'] == merged_df['Pulled_Release_Date']]\n",
    "valid_df"
   ]
  },
  {
   "cell_type": "code",
   "execution_count": null,
   "metadata": {},
   "outputs": [],
   "source": [
    "#df of inconsitent API pulls\n",
    "inconsist_df = merged_df[merged_df['Premiere'] != merged_df['Pulled_Release_Date']]\n",
    "inconsist_df"
   ]
  },
  {
   "cell_type": "code",
   "execution_count": null,
   "metadata": {},
   "outputs": [],
   "source": []
  }
 ],
 "metadata": {
  "kernelspec": {
   "display_name": "Python 3",
   "language": "python",
   "name": "python3"
  },
  "language_info": {
   "codemirror_mode": {
    "name": "ipython",
    "version": 3
   },
   "file_extension": ".py",
   "mimetype": "text/x-python",
   "name": "python",
   "nbconvert_exporter": "python",
   "pygments_lexer": "ipython3",
   "version": "3.8.8"
  }
 },
 "nbformat": 4,
 "nbformat_minor": 1
}
