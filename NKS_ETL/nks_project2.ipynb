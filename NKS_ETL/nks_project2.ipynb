{
 "cells": [
  {
   "cell_type": "markdown",
   "metadata": {},
   "source": [
    "# 1. Imported dependencies"
   ]
  },
  {
   "cell_type": "code",
   "execution_count": 1,
   "metadata": {},
   "outputs": [],
   "source": [
    "#Importing Dependencies\n",
    "import pandas as pd\n",
    "import numpy as np\n",
    "import requests\n",
    "import json\n",
    "import time\n",
    "import datetime\n",
    "from config import tmdb_key\n",
    "from pprint import pprint"
   ]
  },
  {
   "cell_type": "markdown",
   "metadata": {},
   "source": [
    "# 2. Source 1. CSV"
   ]
  },
  {
   "cell_type": "code",
   "execution_count": 2,
   "metadata": {},
   "outputs": [
    {
     "data": {
      "text/html": [
       "<div>\n",
       "<style scoped>\n",
       "    .dataframe tbody tr th:only-of-type {\n",
       "        vertical-align: middle;\n",
       "    }\n",
       "\n",
       "    .dataframe tbody tr th {\n",
       "        vertical-align: top;\n",
       "    }\n",
       "\n",
       "    .dataframe thead th {\n",
       "        text-align: right;\n",
       "    }\n",
       "</style>\n",
       "<table border=\"1\" class=\"dataframe\">\n",
       "  <thead>\n",
       "    <tr style=\"text-align: right;\">\n",
       "      <th></th>\n",
       "      <th>Title</th>\n",
       "      <th>Genre</th>\n",
       "      <th>Premiere</th>\n",
       "      <th>Runtime</th>\n",
       "      <th>IMDB Score</th>\n",
       "      <th>Language</th>\n",
       "    </tr>\n",
       "  </thead>\n",
       "  <tbody>\n",
       "    <tr>\n",
       "      <th>0</th>\n",
       "      <td>Enter the Anime</td>\n",
       "      <td>Documentary</td>\n",
       "      <td>August 5, 2019</td>\n",
       "      <td>58</td>\n",
       "      <td>2.5</td>\n",
       "      <td>English/Japanese</td>\n",
       "    </tr>\n",
       "    <tr>\n",
       "      <th>1</th>\n",
       "      <td>Dark Forces</td>\n",
       "      <td>Thriller</td>\n",
       "      <td>August 21, 2020</td>\n",
       "      <td>81</td>\n",
       "      <td>2.6</td>\n",
       "      <td>Spanish</td>\n",
       "    </tr>\n",
       "    <tr>\n",
       "      <th>2</th>\n",
       "      <td>The App</td>\n",
       "      <td>Science fiction/Drama</td>\n",
       "      <td>December 26, 2019</td>\n",
       "      <td>79</td>\n",
       "      <td>2.6</td>\n",
       "      <td>Italian</td>\n",
       "    </tr>\n",
       "  </tbody>\n",
       "</table>\n",
       "</div>"
      ],
      "text/plain": [
       "             Title                  Genre           Premiere  Runtime  \\\n",
       "0  Enter the Anime            Documentary     August 5, 2019       58   \n",
       "1      Dark Forces               Thriller    August 21, 2020       81   \n",
       "2          The App  Science fiction/Drama  December 26, 2019       79   \n",
       "\n",
       "   IMDB Score          Language  \n",
       "0         2.5  English/Japanese  \n",
       "1         2.6           Spanish  \n",
       "2         2.6           Italian  "
      ]
     },
     "execution_count": 2,
     "metadata": {},
     "output_type": "execute_result"
    }
   ],
   "source": [
    "ntfl = pd.read_csv('source_data/NetflixOriginals1.csv', encoding = \"ISO-8859-1\")\n",
    "ntfl.head(3)"
   ]
  },
  {
   "cell_type": "code",
   "execution_count": 3,
   "metadata": {},
   "outputs": [
    {
     "data": {
      "text/plain": [
       "584"
      ]
     },
     "execution_count": 3,
     "metadata": {},
     "output_type": "execute_result"
    }
   ],
   "source": [
    "len(ntfl['Title'])"
   ]
  },
  {
   "cell_type": "code",
   "execution_count": 4,
   "metadata": {},
   "outputs": [
    {
     "data": {
      "text/html": [
       "<div>\n",
       "<style scoped>\n",
       "    .dataframe tbody tr th:only-of-type {\n",
       "        vertical-align: middle;\n",
       "    }\n",
       "\n",
       "    .dataframe tbody tr th {\n",
       "        vertical-align: top;\n",
       "    }\n",
       "\n",
       "    .dataframe thead th {\n",
       "        text-align: right;\n",
       "    }\n",
       "</style>\n",
       "<table border=\"1\" class=\"dataframe\">\n",
       "  <thead>\n",
       "    <tr style=\"text-align: right;\">\n",
       "      <th></th>\n",
       "      <th>Title</th>\n",
       "      <th>Genre</th>\n",
       "      <th>Runtime</th>\n",
       "      <th>Language</th>\n",
       "    </tr>\n",
       "  </thead>\n",
       "  <tbody>\n",
       "    <tr>\n",
       "      <th>0</th>\n",
       "      <td>Enter the Anime</td>\n",
       "      <td>Documentary</td>\n",
       "      <td>58</td>\n",
       "      <td>English/Japanese</td>\n",
       "    </tr>\n",
       "    <tr>\n",
       "      <th>1</th>\n",
       "      <td>Dark Forces</td>\n",
       "      <td>Thriller</td>\n",
       "      <td>81</td>\n",
       "      <td>Spanish</td>\n",
       "    </tr>\n",
       "    <tr>\n",
       "      <th>2</th>\n",
       "      <td>The App</td>\n",
       "      <td>Science fiction/Drama</td>\n",
       "      <td>79</td>\n",
       "      <td>Italian</td>\n",
       "    </tr>\n",
       "  </tbody>\n",
       "</table>\n",
       "</div>"
      ],
      "text/plain": [
       "             Title                  Genre  Runtime          Language\n",
       "0  Enter the Anime            Documentary       58  English/Japanese\n",
       "1      Dark Forces               Thriller       81           Spanish\n",
       "2          The App  Science fiction/Drama       79           Italian"
      ]
     },
     "execution_count": 4,
     "metadata": {},
     "output_type": "execute_result"
    }
   ],
   "source": [
    "ntfl_df = ntfl[[\"Title\",\"Genre\",\"Runtime\",\"Language\"]]\n",
    "ntfl_df.head(3)"
   ]
  },
  {
   "cell_type": "code",
   "execution_count": 5,
   "metadata": {},
   "outputs": [],
   "source": [
    "# full_dates = net_flix['Premiere']\n",
    "# converted = pd.to_datetime(full_dates)\n",
    "# net_flix['Premiere'] = converted\n",
    "# net_flix.head()"
   ]
  },
  {
   "cell_type": "code",
   "execution_count": 6,
   "metadata": {},
   "outputs": [
    {
     "data": {
      "text/html": [
       "<div>\n",
       "<style scoped>\n",
       "    .dataframe tbody tr th:only-of-type {\n",
       "        vertical-align: middle;\n",
       "    }\n",
       "\n",
       "    .dataframe tbody tr th {\n",
       "        vertical-align: top;\n",
       "    }\n",
       "\n",
       "    .dataframe thead th {\n",
       "        text-align: right;\n",
       "    }\n",
       "</style>\n",
       "<table border=\"1\" class=\"dataframe\">\n",
       "  <thead>\n",
       "    <tr style=\"text-align: right;\">\n",
       "      <th></th>\n",
       "      <th>Title</th>\n",
       "      <th>Runtime</th>\n",
       "      <th>Language</th>\n",
       "      <th>Genre</th>\n",
       "    </tr>\n",
       "  </thead>\n",
       "  <tbody>\n",
       "    <tr>\n",
       "      <th>0</th>\n",
       "      <td>Enter the Anime</td>\n",
       "      <td>58</td>\n",
       "      <td>English/Japanese</td>\n",
       "      <td>Documentary</td>\n",
       "    </tr>\n",
       "    <tr>\n",
       "      <th>1</th>\n",
       "      <td>Dark Forces</td>\n",
       "      <td>81</td>\n",
       "      <td>Spanish</td>\n",
       "      <td>Thriller</td>\n",
       "    </tr>\n",
       "    <tr>\n",
       "      <th>2</th>\n",
       "      <td>The App</td>\n",
       "      <td>79</td>\n",
       "      <td>Italian</td>\n",
       "      <td>Science fiction</td>\n",
       "    </tr>\n",
       "    <tr>\n",
       "      <th>3</th>\n",
       "      <td>The App</td>\n",
       "      <td>79</td>\n",
       "      <td>Italian</td>\n",
       "      <td>Drama</td>\n",
       "    </tr>\n",
       "    <tr>\n",
       "      <th>4</th>\n",
       "      <td>The Open House</td>\n",
       "      <td>94</td>\n",
       "      <td>English</td>\n",
       "      <td>Horror thriller</td>\n",
       "    </tr>\n",
       "  </tbody>\n",
       "</table>\n",
       "</div>"
      ],
      "text/plain": [
       "             Title  Runtime          Language            Genre\n",
       "0  Enter the Anime       58  English/Japanese      Documentary\n",
       "1      Dark Forces       81           Spanish         Thriller\n",
       "2          The App       79           Italian  Science fiction\n",
       "3          The App       79           Italian            Drama\n",
       "4   The Open House       94           English  Horror thriller"
      ]
     },
     "execution_count": 6,
     "metadata": {},
     "output_type": "execute_result"
    }
   ],
   "source": [
    "genre_sep_df = ntfl_df.set_index(['Title','Runtime', 'Language']).apply(lambda x: x.str.split('/').explode()).reset_index()      \n",
    "genre_sep_df.head(5)"
   ]
  },
  {
   "cell_type": "code",
   "execution_count": 7,
   "metadata": {},
   "outputs": [
    {
     "data": {
      "text/html": [
       "<div>\n",
       "<style scoped>\n",
       "    .dataframe tbody tr th:only-of-type {\n",
       "        vertical-align: middle;\n",
       "    }\n",
       "\n",
       "    .dataframe tbody tr th {\n",
       "        vertical-align: top;\n",
       "    }\n",
       "\n",
       "    .dataframe thead th {\n",
       "        text-align: right;\n",
       "    }\n",
       "</style>\n",
       "<table border=\"1\" class=\"dataframe\">\n",
       "  <thead>\n",
       "    <tr style=\"text-align: right;\">\n",
       "      <th></th>\n",
       "      <th>Title</th>\n",
       "      <th>Runtime</th>\n",
       "      <th>Genre</th>\n",
       "      <th>Language</th>\n",
       "    </tr>\n",
       "  </thead>\n",
       "  <tbody>\n",
       "    <tr>\n",
       "      <th>0</th>\n",
       "      <td>Enter the Anime</td>\n",
       "      <td>58</td>\n",
       "      <td>Documentary</td>\n",
       "      <td>English</td>\n",
       "    </tr>\n",
       "    <tr>\n",
       "      <th>1</th>\n",
       "      <td>Enter the Anime</td>\n",
       "      <td>58</td>\n",
       "      <td>Documentary</td>\n",
       "      <td>Japanese</td>\n",
       "    </tr>\n",
       "    <tr>\n",
       "      <th>2</th>\n",
       "      <td>Dark Forces</td>\n",
       "      <td>81</td>\n",
       "      <td>Thriller</td>\n",
       "      <td>Spanish</td>\n",
       "    </tr>\n",
       "  </tbody>\n",
       "</table>\n",
       "</div>"
      ],
      "text/plain": [
       "             Title  Runtime        Genre  Language\n",
       "0  Enter the Anime       58  Documentary   English\n",
       "1  Enter the Anime       58  Documentary  Japanese\n",
       "2      Dark Forces       81     Thriller   Spanish"
      ]
     },
     "execution_count": 7,
     "metadata": {},
     "output_type": "execute_result"
    }
   ],
   "source": [
    "lang_sep_df = ntfl_df.set_index(['Title','Runtime','Genre']).apply(lambda x: x.str.split('/').explode()).reset_index()\n",
    "lang_sep_df.head(3)"
   ]
  },
  {
   "cell_type": "code",
   "execution_count": 8,
   "metadata": {},
   "outputs": [
    {
     "data": {
      "text/html": [
       "<div>\n",
       "<style scoped>\n",
       "    .dataframe tbody tr th:only-of-type {\n",
       "        vertical-align: middle;\n",
       "    }\n",
       "\n",
       "    .dataframe tbody tr th {\n",
       "        vertical-align: top;\n",
       "    }\n",
       "\n",
       "    .dataframe thead th {\n",
       "        text-align: right;\n",
       "    }\n",
       "</style>\n",
       "<table border=\"1\" class=\"dataframe\">\n",
       "  <thead>\n",
       "    <tr style=\"text-align: right;\">\n",
       "      <th></th>\n",
       "      <th>Title</th>\n",
       "      <th>Runtime</th>\n",
       "      <th>Genre</th>\n",
       "      <th>Language</th>\n",
       "    </tr>\n",
       "  </thead>\n",
       "  <tbody>\n",
       "    <tr>\n",
       "      <th>0</th>\n",
       "      <td>Enter the Anime</td>\n",
       "      <td>58</td>\n",
       "      <td>Documentary</td>\n",
       "      <td>English</td>\n",
       "    </tr>\n",
       "    <tr>\n",
       "      <th>1</th>\n",
       "      <td>Enter the Anime</td>\n",
       "      <td>58</td>\n",
       "      <td>Documentary</td>\n",
       "      <td>Japanese</td>\n",
       "    </tr>\n",
       "    <tr>\n",
       "      <th>2</th>\n",
       "      <td>Dark Forces</td>\n",
       "      <td>81</td>\n",
       "      <td>Thriller</td>\n",
       "      <td>Spanish</td>\n",
       "    </tr>\n",
       "    <tr>\n",
       "      <th>3</th>\n",
       "      <td>The App</td>\n",
       "      <td>79</td>\n",
       "      <td>Science fiction/Drama</td>\n",
       "      <td>Italian</td>\n",
       "    </tr>\n",
       "    <tr>\n",
       "      <th>4</th>\n",
       "      <td>The Open House</td>\n",
       "      <td>94</td>\n",
       "      <td>Horror thriller</td>\n",
       "      <td>English</td>\n",
       "    </tr>\n",
       "  </tbody>\n",
       "</table>\n",
       "</div>"
      ],
      "text/plain": [
       "             Title  Runtime                  Genre  Language\n",
       "0  Enter the Anime       58            Documentary   English\n",
       "1  Enter the Anime       58            Documentary  Japanese\n",
       "2      Dark Forces       81               Thriller   Spanish\n",
       "3          The App       79  Science fiction/Drama   Italian\n",
       "4   The Open House       94        Horror thriller   English"
      ]
     },
     "execution_count": 8,
     "metadata": {},
     "output_type": "execute_result"
    }
   ],
   "source": [
    "csv_df1 = lang_sep_df\n",
    "csv_df1.head()"
   ]
  },
  {
   "cell_type": "code",
   "execution_count": 9,
   "metadata": {},
   "outputs": [
    {
     "data": {
      "text/html": [
       "<div>\n",
       "<style scoped>\n",
       "    .dataframe tbody tr th:only-of-type {\n",
       "        vertical-align: middle;\n",
       "    }\n",
       "\n",
       "    .dataframe tbody tr th {\n",
       "        vertical-align: top;\n",
       "    }\n",
       "\n",
       "    .dataframe thead th {\n",
       "        text-align: right;\n",
       "    }\n",
       "</style>\n",
       "<table border=\"1\" class=\"dataframe\">\n",
       "  <thead>\n",
       "    <tr style=\"text-align: right;\">\n",
       "      <th></th>\n",
       "      <th>Title</th>\n",
       "      <th>Runtime</th>\n",
       "      <th>Genre</th>\n",
       "      <th>Language</th>\n",
       "      <th>actors</th>\n",
       "    </tr>\n",
       "  </thead>\n",
       "  <tbody>\n",
       "    <tr>\n",
       "      <th>0</th>\n",
       "      <td>Enter the Anime</td>\n",
       "      <td>58</td>\n",
       "      <td>Documentary</td>\n",
       "      <td>English</td>\n",
       "      <td></td>\n",
       "    </tr>\n",
       "    <tr>\n",
       "      <th>1</th>\n",
       "      <td>Enter the Anime</td>\n",
       "      <td>58</td>\n",
       "      <td>Documentary</td>\n",
       "      <td>Japanese</td>\n",
       "      <td></td>\n",
       "    </tr>\n",
       "  </tbody>\n",
       "</table>\n",
       "</div>"
      ],
      "text/plain": [
       "             Title  Runtime        Genre  Language actors\n",
       "0  Enter the Anime       58  Documentary   English       \n",
       "1  Enter the Anime       58  Documentary  Japanese       "
      ]
     },
     "execution_count": 9,
     "metadata": {},
     "output_type": "execute_result"
    }
   ],
   "source": [
    "csv_df1[\"actors\"] = \" \"\n",
    "csv_df1.head(2)"
   ]
  },
  {
   "cell_type": "code",
   "execution_count": null,
   "metadata": {},
   "outputs": [],
   "source": []
  },
  {
   "cell_type": "code",
   "execution_count": 10,
   "metadata": {},
   "outputs": [
    {
     "name": "stdout",
     "output_type": "stream",
     "text": [
      "<class 'pandas.core.frame.DataFrame'>\n",
      "RangeIndex: 610 entries, 0 to 609\n",
      "Data columns (total 5 columns):\n",
      " #   Column    Non-Null Count  Dtype \n",
      "---  ------    --------------  ----- \n",
      " 0   Title     610 non-null    object\n",
      " 1   Runtime   610 non-null    int64 \n",
      " 2   Genre     610 non-null    object\n",
      " 3   Language  610 non-null    object\n",
      " 4   actors    610 non-null    object\n",
      "dtypes: int64(1), object(4)\n",
      "memory usage: 24.0+ KB\n"
     ]
    }
   ],
   "source": [
    "csv_df1.info()"
   ]
  },
  {
   "cell_type": "code",
   "execution_count": 11,
   "metadata": {},
   "outputs": [
    {
     "data": {
      "text/html": [
       "<div>\n",
       "<style scoped>\n",
       "    .dataframe tbody tr th:only-of-type {\n",
       "        vertical-align: middle;\n",
       "    }\n",
       "\n",
       "    .dataframe tbody tr th {\n",
       "        vertical-align: top;\n",
       "    }\n",
       "\n",
       "    .dataframe thead th {\n",
       "        text-align: right;\n",
       "    }\n",
       "</style>\n",
       "<table border=\"1\" class=\"dataframe\">\n",
       "  <thead>\n",
       "    <tr style=\"text-align: right;\">\n",
       "      <th></th>\n",
       "      <th>Title</th>\n",
       "      <th>Runtime</th>\n",
       "      <th>Genre</th>\n",
       "      <th>Language</th>\n",
       "      <th>actors</th>\n",
       "    </tr>\n",
       "  </thead>\n",
       "  <tbody>\n",
       "    <tr>\n",
       "      <th>0</th>\n",
       "      <td>Enter the Anime</td>\n",
       "      <td>58</td>\n",
       "      <td>Documentary</td>\n",
       "      <td>English</td>\n",
       "      <td></td>\n",
       "    </tr>\n",
       "    <tr>\n",
       "      <th>1</th>\n",
       "      <td>Enter the Anime</td>\n",
       "      <td>58</td>\n",
       "      <td>Documentary</td>\n",
       "      <td>Japanese</td>\n",
       "      <td></td>\n",
       "    </tr>\n",
       "    <tr>\n",
       "      <th>2</th>\n",
       "      <td>Dark Forces</td>\n",
       "      <td>81</td>\n",
       "      <td>Thriller</td>\n",
       "      <td>Spanish</td>\n",
       "      <td></td>\n",
       "    </tr>\n",
       "    <tr>\n",
       "      <th>3</th>\n",
       "      <td>The App</td>\n",
       "      <td>79</td>\n",
       "      <td>Science fiction/Drama</td>\n",
       "      <td>Italian</td>\n",
       "      <td></td>\n",
       "    </tr>\n",
       "    <tr>\n",
       "      <th>4</th>\n",
       "      <td>The Open House</td>\n",
       "      <td>94</td>\n",
       "      <td>Horror thriller</td>\n",
       "      <td>English</td>\n",
       "      <td></td>\n",
       "    </tr>\n",
       "    <tr>\n",
       "      <th>...</th>\n",
       "      <td>...</td>\n",
       "      <td>...</td>\n",
       "      <td>...</td>\n",
       "      <td>...</td>\n",
       "      <td>...</td>\n",
       "    </tr>\n",
       "    <tr>\n",
       "      <th>605</th>\n",
       "      <td>Winter on Fire: Ukraine's Fight for Freedom</td>\n",
       "      <td>91</td>\n",
       "      <td>Documentary</td>\n",
       "      <td>Ukranian</td>\n",
       "      <td></td>\n",
       "    </tr>\n",
       "    <tr>\n",
       "      <th>606</th>\n",
       "      <td>Winter on Fire: Ukraine's Fight for Freedom</td>\n",
       "      <td>91</td>\n",
       "      <td>Documentary</td>\n",
       "      <td>Russian</td>\n",
       "      <td></td>\n",
       "    </tr>\n",
       "    <tr>\n",
       "      <th>607</th>\n",
       "      <td>Springsteen on Broadway</td>\n",
       "      <td>153</td>\n",
       "      <td>One-man show</td>\n",
       "      <td>English</td>\n",
       "      <td></td>\n",
       "    </tr>\n",
       "    <tr>\n",
       "      <th>608</th>\n",
       "      <td>Emicida: AmarElo - It's All For Yesterday</td>\n",
       "      <td>89</td>\n",
       "      <td>Documentary</td>\n",
       "      <td>Portuguese</td>\n",
       "      <td></td>\n",
       "    </tr>\n",
       "    <tr>\n",
       "      <th>609</th>\n",
       "      <td>David Attenborough: A Life on Our Planet</td>\n",
       "      <td>83</td>\n",
       "      <td>Documentary</td>\n",
       "      <td>English</td>\n",
       "      <td></td>\n",
       "    </tr>\n",
       "  </tbody>\n",
       "</table>\n",
       "<p>610 rows × 5 columns</p>\n",
       "</div>"
      ],
      "text/plain": [
       "                                           Title  Runtime  \\\n",
       "0                                Enter the Anime       58   \n",
       "1                                Enter the Anime       58   \n",
       "2                                    Dark Forces       81   \n",
       "3                                        The App       79   \n",
       "4                                 The Open House       94   \n",
       "..                                           ...      ...   \n",
       "605  Winter on Fire: Ukraine's Fight for Freedom       91   \n",
       "606  Winter on Fire: Ukraine's Fight for Freedom       91   \n",
       "607                      Springsteen on Broadway      153   \n",
       "608    Emicida: AmarElo - It's All For Yesterday       89   \n",
       "609     David Attenborough: A Life on Our Planet       83   \n",
       "\n",
       "                     Genre    Language actors  \n",
       "0              Documentary     English         \n",
       "1              Documentary    Japanese         \n",
       "2                 Thriller     Spanish         \n",
       "3    Science fiction/Drama     Italian         \n",
       "4          Horror thriller     English         \n",
       "..                     ...         ...    ...  \n",
       "605            Documentary    Ukranian         \n",
       "606            Documentary     Russian         \n",
       "607           One-man show     English         \n",
       "608            Documentary  Portuguese         \n",
       "609            Documentary     English         \n",
       "\n",
       "[610 rows x 5 columns]"
      ]
     },
     "execution_count": 11,
     "metadata": {},
     "output_type": "execute_result"
    }
   ],
   "source": [
    "csv_df1[\"actors\"].fillna(130, inplace = True)\n",
    "csv_df1"
   ]
  },
  {
   "cell_type": "code",
   "execution_count": 12,
   "metadata": {},
   "outputs": [
    {
     "data": {
      "text/html": [
       "<div>\n",
       "<style scoped>\n",
       "    .dataframe tbody tr th:only-of-type {\n",
       "        vertical-align: middle;\n",
       "    }\n",
       "\n",
       "    .dataframe tbody tr th {\n",
       "        vertical-align: top;\n",
       "    }\n",
       "\n",
       "    .dataframe thead th {\n",
       "        text-align: right;\n",
       "    }\n",
       "</style>\n",
       "<table border=\"1\" class=\"dataframe\">\n",
       "  <thead>\n",
       "    <tr style=\"text-align: right;\">\n",
       "      <th></th>\n",
       "      <th>title</th>\n",
       "      <th>runtime</th>\n",
       "      <th>genre</th>\n",
       "      <th>languages</th>\n",
       "      <th>actors</th>\n",
       "    </tr>\n",
       "  </thead>\n",
       "  <tbody>\n",
       "    <tr>\n",
       "      <th>0</th>\n",
       "      <td>Enter the Anime</td>\n",
       "      <td>58</td>\n",
       "      <td>Documentary</td>\n",
       "      <td>English</td>\n",
       "      <td></td>\n",
       "    </tr>\n",
       "    <tr>\n",
       "      <th>1</th>\n",
       "      <td>Enter the Anime</td>\n",
       "      <td>58</td>\n",
       "      <td>Documentary</td>\n",
       "      <td>Japanese</td>\n",
       "      <td></td>\n",
       "    </tr>\n",
       "    <tr>\n",
       "      <th>2</th>\n",
       "      <td>Dark Forces</td>\n",
       "      <td>81</td>\n",
       "      <td>Thriller</td>\n",
       "      <td>Spanish</td>\n",
       "      <td></td>\n",
       "    </tr>\n",
       "    <tr>\n",
       "      <th>3</th>\n",
       "      <td>The App</td>\n",
       "      <td>79</td>\n",
       "      <td>Science fiction/Drama</td>\n",
       "      <td>Italian</td>\n",
       "      <td></td>\n",
       "    </tr>\n",
       "    <tr>\n",
       "      <th>4</th>\n",
       "      <td>The Open House</td>\n",
       "      <td>94</td>\n",
       "      <td>Horror thriller</td>\n",
       "      <td>English</td>\n",
       "      <td></td>\n",
       "    </tr>\n",
       "    <tr>\n",
       "      <th>...</th>\n",
       "      <td>...</td>\n",
       "      <td>...</td>\n",
       "      <td>...</td>\n",
       "      <td>...</td>\n",
       "      <td>...</td>\n",
       "    </tr>\n",
       "    <tr>\n",
       "      <th>605</th>\n",
       "      <td>Winter on Fire: Ukraine's Fight for Freedom</td>\n",
       "      <td>91</td>\n",
       "      <td>Documentary</td>\n",
       "      <td>Ukranian</td>\n",
       "      <td></td>\n",
       "    </tr>\n",
       "    <tr>\n",
       "      <th>606</th>\n",
       "      <td>Winter on Fire: Ukraine's Fight for Freedom</td>\n",
       "      <td>91</td>\n",
       "      <td>Documentary</td>\n",
       "      <td>Russian</td>\n",
       "      <td></td>\n",
       "    </tr>\n",
       "    <tr>\n",
       "      <th>607</th>\n",
       "      <td>Springsteen on Broadway</td>\n",
       "      <td>153</td>\n",
       "      <td>One-man show</td>\n",
       "      <td>English</td>\n",
       "      <td></td>\n",
       "    </tr>\n",
       "    <tr>\n",
       "      <th>608</th>\n",
       "      <td>Emicida: AmarElo - It's All For Yesterday</td>\n",
       "      <td>89</td>\n",
       "      <td>Documentary</td>\n",
       "      <td>Portuguese</td>\n",
       "      <td></td>\n",
       "    </tr>\n",
       "    <tr>\n",
       "      <th>609</th>\n",
       "      <td>David Attenborough: A Life on Our Planet</td>\n",
       "      <td>83</td>\n",
       "      <td>Documentary</td>\n",
       "      <td>English</td>\n",
       "      <td></td>\n",
       "    </tr>\n",
       "  </tbody>\n",
       "</table>\n",
       "<p>610 rows × 5 columns</p>\n",
       "</div>"
      ],
      "text/plain": [
       "                                           title  runtime  \\\n",
       "0                                Enter the Anime       58   \n",
       "1                                Enter the Anime       58   \n",
       "2                                    Dark Forces       81   \n",
       "3                                        The App       79   \n",
       "4                                 The Open House       94   \n",
       "..                                           ...      ...   \n",
       "605  Winter on Fire: Ukraine's Fight for Freedom       91   \n",
       "606  Winter on Fire: Ukraine's Fight for Freedom       91   \n",
       "607                      Springsteen on Broadway      153   \n",
       "608    Emicida: AmarElo - It's All For Yesterday       89   \n",
       "609     David Attenborough: A Life on Our Planet       83   \n",
       "\n",
       "                     genre   languages actors  \n",
       "0              Documentary     English         \n",
       "1              Documentary    Japanese         \n",
       "2                 Thriller     Spanish         \n",
       "3    Science fiction/Drama     Italian         \n",
       "4          Horror thriller     English         \n",
       "..                     ...         ...    ...  \n",
       "605            Documentary    Ukranian         \n",
       "606            Documentary     Russian         \n",
       "607           One-man show     English         \n",
       "608            Documentary  Portuguese         \n",
       "609            Documentary     English         \n",
       "\n",
       "[610 rows x 5 columns]"
      ]
     },
     "execution_count": 12,
     "metadata": {},
     "output_type": "execute_result"
    }
   ],
   "source": [
    "csv_df1 = csv_df1.rename(columns = {'Title':'title','Runtime':'runtime',\"Genre\":\"genre\",\"Language\":\"languages\"}) \n",
    "csv_df1"
   ]
  },
  {
   "cell_type": "code",
   "execution_count": 13,
   "metadata": {},
   "outputs": [
    {
     "name": "stdout",
     "output_type": "stream",
     "text": [
      "<class 'pandas.core.frame.DataFrame'>\n",
      "RangeIndex: 610 entries, 0 to 609\n",
      "Data columns (total 5 columns):\n",
      " #   Column     Non-Null Count  Dtype \n",
      "---  ------     --------------  ----- \n",
      " 0   title      610 non-null    object\n",
      " 1   runtime    610 non-null    int64 \n",
      " 2   genre      610 non-null    object\n",
      " 3   languages  610 non-null    object\n",
      " 4   actors     610 non-null    object\n",
      "dtypes: int64(1), object(4)\n",
      "memory usage: 24.0+ KB\n"
     ]
    }
   ],
   "source": [
    "csv_df1.info()"
   ]
  },
  {
   "cell_type": "markdown",
   "metadata": {},
   "source": [
    "# 3. Source2 JSON"
   ]
  },
  {
   "cell_type": "code",
   "execution_count": 14,
   "metadata": {},
   "outputs": [
    {
     "data": {
      "text/html": [
       "<div>\n",
       "<style scoped>\n",
       "    .dataframe tbody tr th:only-of-type {\n",
       "        vertical-align: middle;\n",
       "    }\n",
       "\n",
       "    .dataframe tbody tr th {\n",
       "        vertical-align: top;\n",
       "    }\n",
       "\n",
       "    .dataframe thead th {\n",
       "        text-align: right;\n",
       "    }\n",
       "</style>\n",
       "<table border=\"1\" class=\"dataframe\">\n",
       "  <thead>\n",
       "    <tr style=\"text-align: right;\">\n",
       "      <th></th>\n",
       "      <th>title</th>\n",
       "      <th>rating</th>\n",
       "      <th>year</th>\n",
       "      <th>users_rating</th>\n",
       "      <th>votes</th>\n",
       "      <th>metascore</th>\n",
       "      <th>img_url</th>\n",
       "      <th>countries</th>\n",
       "      <th>languages</th>\n",
       "      <th>actors</th>\n",
       "      <th>genre</th>\n",
       "      <th>tagline</th>\n",
       "      <th>description</th>\n",
       "      <th>directors</th>\n",
       "      <th>runtime</th>\n",
       "      <th>imdb_url</th>\n",
       "    </tr>\n",
       "  </thead>\n",
       "  <tbody>\n",
       "    <tr>\n",
       "      <th>0</th>\n",
       "      <td>A Rainy Day in New York</td>\n",
       "      <td>PG-13</td>\n",
       "      <td>2019.0</td>\n",
       "      <td>6.6</td>\n",
       "      <td>21,903</td>\n",
       "      <td>44.0</td>\n",
       "      <td>https://m.media-amazon.com/images/M/MV5BODAwZD...</td>\n",
       "      <td>[USA]</td>\n",
       "      <td>[English]</td>\n",
       "      <td>[Timothée Chalamet, Elle Fanning, Liev Schreib...</td>\n",
       "      <td>[Comedy, Romance]</td>\n",
       "      <td>None</td>\n",
       "      <td>A young couple arrives in New York for a weeke...</td>\n",
       "      <td>[Woody Allen]</td>\n",
       "      <td>92 min</td>\n",
       "      <td>https://www.imdb.com/title/tt7139936/</td>\n",
       "    </tr>\n",
       "  </tbody>\n",
       "</table>\n",
       "</div>"
      ],
      "text/plain": [
       "                     title rating    year  users_rating   votes  metascore  \\\n",
       "0  A Rainy Day in New York  PG-13  2019.0           6.6  21,903       44.0   \n",
       "\n",
       "                                             img_url countries  languages  \\\n",
       "0  https://m.media-amazon.com/images/M/MV5BODAwZD...     [USA]  [English]   \n",
       "\n",
       "                                              actors              genre  \\\n",
       "0  [Timothée Chalamet, Elle Fanning, Liev Schreib...  [Comedy, Romance]   \n",
       "\n",
       "  tagline                                        description      directors  \\\n",
       "0    None  A young couple arrives in New York for a weeke...  [Woody Allen]   \n",
       "\n",
       "  runtime                               imdb_url  \n",
       "0  92 min  https://www.imdb.com/title/tt7139936/  "
      ]
     },
     "execution_count": 14,
     "metadata": {},
     "output_type": "execute_result"
    }
   ],
   "source": [
    "json_df2 = pd.read_json('source_data/movie.json')\n",
    "json_df2.head(1)"
   ]
  },
  {
   "cell_type": "code",
   "execution_count": 15,
   "metadata": {},
   "outputs": [
    {
     "data": {
      "text/plain": [
       "Index(['title', 'rating', 'year', 'users_rating', 'votes', 'metascore',\n",
       "       'img_url', 'countries', 'languages', 'actors', 'genre', 'tagline',\n",
       "       'description', 'directors', 'runtime', 'imdb_url'],\n",
       "      dtype='object')"
      ]
     },
     "execution_count": 15,
     "metadata": {},
     "output_type": "execute_result"
    }
   ],
   "source": [
    "json_df2.columns"
   ]
  },
  {
   "cell_type": "code",
   "execution_count": null,
   "metadata": {},
   "outputs": [],
   "source": []
  },
  {
   "cell_type": "code",
   "execution_count": 16,
   "metadata": {},
   "outputs": [
    {
     "name": "stdout",
     "output_type": "stream",
     "text": [
      "610\n",
      "610\n",
      "62058\n",
      "62058\n"
     ]
    }
   ],
   "source": [
    "print(len(csv_df1['title']))\n",
    "print(len(csv_df1['runtime']))\n",
    "print(len(json_df2['title']))\n",
    "print(len(json_df2['runtime']))"
   ]
  },
  {
   "cell_type": "code",
   "execution_count": 17,
   "metadata": {},
   "outputs": [
    {
     "data": {
      "text/html": [
       "<div>\n",
       "<style scoped>\n",
       "    .dataframe tbody tr th:only-of-type {\n",
       "        vertical-align: middle;\n",
       "    }\n",
       "\n",
       "    .dataframe tbody tr th {\n",
       "        vertical-align: top;\n",
       "    }\n",
       "\n",
       "    .dataframe thead th {\n",
       "        text-align: right;\n",
       "    }\n",
       "</style>\n",
       "<table border=\"1\" class=\"dataframe\">\n",
       "  <thead>\n",
       "    <tr style=\"text-align: right;\">\n",
       "      <th></th>\n",
       "      <th>title</th>\n",
       "      <th>runtime</th>\n",
       "      <th>genre</th>\n",
       "      <th>languages</th>\n",
       "      <th>actors</th>\n",
       "    </tr>\n",
       "  </thead>\n",
       "  <tbody>\n",
       "    <tr>\n",
       "      <th>0</th>\n",
       "      <td>A Rainy Day in New York</td>\n",
       "      <td>92 min</td>\n",
       "      <td>[Comedy, Romance]</td>\n",
       "      <td>[English]</td>\n",
       "      <td>[Timothée Chalamet, Elle Fanning, Liev Schreib...</td>\n",
       "    </tr>\n",
       "    <tr>\n",
       "      <th>1</th>\n",
       "      <td>Murder Manual</td>\n",
       "      <td>91 min</td>\n",
       "      <td>[Horror, Thriller]</td>\n",
       "      <td>[English]</td>\n",
       "      <td>[Emilia Clarke, Hadley Fraser, Sylvia Panacion...</td>\n",
       "    </tr>\n",
       "  </tbody>\n",
       "</table>\n",
       "</div>"
      ],
      "text/plain": [
       "                     title runtime               genre  languages  \\\n",
       "0  A Rainy Day in New York  92 min   [Comedy, Romance]  [English]   \n",
       "1            Murder Manual  91 min  [Horror, Thriller]  [English]   \n",
       "\n",
       "                                              actors  \n",
       "0  [Timothée Chalamet, Elle Fanning, Liev Schreib...  \n",
       "1  [Emilia Clarke, Hadley Fraser, Sylvia Panacion...  "
      ]
     },
     "execution_count": 17,
     "metadata": {},
     "output_type": "execute_result"
    }
   ],
   "source": [
    "ext_movie_df = json_df2[[\"title\",\"runtime\", \"genre\",\"languages\",\"actors\"]]\n",
    "ext_movie_df.head(2)"
   ]
  },
  {
   "cell_type": "markdown",
   "metadata": {},
   "source": [
    "# 4. Merged CSV and JSON."
   ]
  },
  {
   "cell_type": "code",
   "execution_count": 18,
   "metadata": {},
   "outputs": [
    {
     "data": {
      "text/html": [
       "<div>\n",
       "<style scoped>\n",
       "    .dataframe tbody tr th:only-of-type {\n",
       "        vertical-align: middle;\n",
       "    }\n",
       "\n",
       "    .dataframe tbody tr th {\n",
       "        vertical-align: top;\n",
       "    }\n",
       "\n",
       "    .dataframe thead th {\n",
       "        text-align: right;\n",
       "    }\n",
       "</style>\n",
       "<table border=\"1\" class=\"dataframe\">\n",
       "  <thead>\n",
       "    <tr style=\"text-align: right;\">\n",
       "      <th></th>\n",
       "      <th>title</th>\n",
       "      <th>runtime</th>\n",
       "      <th>genre</th>\n",
       "      <th>languages</th>\n",
       "      <th>actors</th>\n",
       "    </tr>\n",
       "  </thead>\n",
       "  <tbody>\n",
       "    <tr>\n",
       "      <th>0</th>\n",
       "      <td>A Rainy Day in New York</td>\n",
       "      <td>92 min</td>\n",
       "      <td>[Comedy, Romance]</td>\n",
       "      <td>[English]</td>\n",
       "      <td>[Timothée Chalamet, Elle Fanning, Liev Schreib...</td>\n",
       "    </tr>\n",
       "    <tr>\n",
       "      <th>1</th>\n",
       "      <td>Murder Manual</td>\n",
       "      <td>91 min</td>\n",
       "      <td>[Horror, Thriller]</td>\n",
       "      <td>[English]</td>\n",
       "      <td>[Emilia Clarke, Hadley Fraser, Sylvia Panacion...</td>\n",
       "    </tr>\n",
       "    <tr>\n",
       "      <th>2</th>\n",
       "      <td>Ferris Bueller's Day Off</td>\n",
       "      <td>103 min</td>\n",
       "      <td>[Comedy]</td>\n",
       "      <td>[English, German]</td>\n",
       "      <td>[Matthew Broderick, Alan Ruck, Mia Sara, Jeffr...</td>\n",
       "    </tr>\n",
       "  </tbody>\n",
       "</table>\n",
       "</div>"
      ],
      "text/plain": [
       "                      title  runtime               genre          languages  \\\n",
       "0   A Rainy Day in New York   92 min   [Comedy, Romance]          [English]   \n",
       "1             Murder Manual   91 min  [Horror, Thriller]          [English]   \n",
       "2  Ferris Bueller's Day Off  103 min            [Comedy]  [English, German]   \n",
       "\n",
       "                                              actors  \n",
       "0  [Timothée Chalamet, Elle Fanning, Liev Schreib...  \n",
       "1  [Emilia Clarke, Hadley Fraser, Sylvia Panacion...  \n",
       "2  [Matthew Broderick, Alan Ruck, Mia Sara, Jeffr...  "
      ]
     },
     "execution_count": 18,
     "metadata": {},
     "output_type": "execute_result"
    }
   ],
   "source": [
    "# 2 different source is concateneated based on the same columns heads \n",
    "movie_df = pd.concat([ext_movie_df,csv_df1], ignore_index=True)\n",
    "movie_df.head(3)"
   ]
  },
  {
   "cell_type": "code",
   "execution_count": 19,
   "metadata": {},
   "outputs": [
    {
     "name": "stdout",
     "output_type": "stream",
     "text": [
      "62668\n",
      "62668\n"
     ]
    }
   ],
   "source": [
    "print(len(movie_df['title']))\n",
    "print(len(movie_df['runtime']))"
   ]
  },
  {
   "cell_type": "code",
   "execution_count": 20,
   "metadata": {},
   "outputs": [],
   "source": [
    "# From here unpack json file that has rows as a [] or [[0],[1],[2],...[n]] due to normalize df for RDB\n",
    "json_df=movie_df"
   ]
  },
  {
   "cell_type": "code",
   "execution_count": 21,
   "metadata": {},
   "outputs": [],
   "source": [
    "titles_to_list = json_df['title'].tolist()\n",
    "#titles_to_list\n",
    "actors_l_of_lists = json_df['actors'].tolist()\n",
    "actors_l_of_lists\n",
    "genres_l_of_lists = json_df['genre'].tolist()\n",
    "genres_l_of_lists\n",
    "langs_l_of_lists = json_df['languages'].tolist()\n",
    "runtimes_l_of_lists = json_df['runtime'].tolist()"
   ]
  },
  {
   "cell_type": "code",
   "execution_count": 22,
   "metadata": {},
   "outputs": [
    {
     "data": {
      "text/html": [
       "<div>\n",
       "<style scoped>\n",
       "    .dataframe tbody tr th:only-of-type {\n",
       "        vertical-align: middle;\n",
       "    }\n",
       "\n",
       "    .dataframe tbody tr th {\n",
       "        vertical-align: top;\n",
       "    }\n",
       "\n",
       "    .dataframe thead th {\n",
       "        text-align: right;\n",
       "    }\n",
       "</style>\n",
       "<table border=\"1\" class=\"dataframe\">\n",
       "  <thead>\n",
       "    <tr style=\"text-align: right;\">\n",
       "      <th></th>\n",
       "      <th>title</th>\n",
       "      <th>runtime</th>\n",
       "      <th>genre</th>\n",
       "      <th>languages</th>\n",
       "      <th>actors</th>\n",
       "      <th>run_t</th>\n",
       "      <th>mins</th>\n",
       "    </tr>\n",
       "  </thead>\n",
       "  <tbody>\n",
       "    <tr>\n",
       "      <th>0</th>\n",
       "      <td>A Rainy Day in New York</td>\n",
       "      <td>92 min</td>\n",
       "      <td>[Comedy, Romance]</td>\n",
       "      <td>[English]</td>\n",
       "      <td>[Timothée Chalamet, Elle Fanning, Liev Schreib...</td>\n",
       "      <td>92</td>\n",
       "      <td>min</td>\n",
       "    </tr>\n",
       "    <tr>\n",
       "      <th>1</th>\n",
       "      <td>Murder Manual</td>\n",
       "      <td>91 min</td>\n",
       "      <td>[Horror, Thriller]</td>\n",
       "      <td>[English]</td>\n",
       "      <td>[Emilia Clarke, Hadley Fraser, Sylvia Panacion...</td>\n",
       "      <td>91</td>\n",
       "      <td>min</td>\n",
       "    </tr>\n",
       "  </tbody>\n",
       "</table>\n",
       "</div>"
      ],
      "text/plain": [
       "                     title runtime               genre  languages  \\\n",
       "0  A Rainy Day in New York  92 min   [Comedy, Romance]  [English]   \n",
       "1            Murder Manual  91 min  [Horror, Thriller]  [English]   \n",
       "\n",
       "                                              actors run_t mins  \n",
       "0  [Timothée Chalamet, Elle Fanning, Liev Schreib...    92  min  \n",
       "1  [Emilia Clarke, Hadley Fraser, Sylvia Panacion...    91  min  "
      ]
     },
     "execution_count": 22,
     "metadata": {},
     "output_type": "execute_result"
    }
   ],
   "source": [
    "movie_df[['run_t','mins']] = movie_df.runtime.str.split(expand=True)\n",
    "movie_df.head(2)"
   ]
  },
  {
   "cell_type": "code",
   "execution_count": 23,
   "metadata": {},
   "outputs": [
    {
     "data": {
      "text/html": [
       "<div>\n",
       "<style scoped>\n",
       "    .dataframe tbody tr th:only-of-type {\n",
       "        vertical-align: middle;\n",
       "    }\n",
       "\n",
       "    .dataframe tbody tr th {\n",
       "        vertical-align: top;\n",
       "    }\n",
       "\n",
       "    .dataframe thead th {\n",
       "        text-align: right;\n",
       "    }\n",
       "</style>\n",
       "<table border=\"1\" class=\"dataframe\">\n",
       "  <thead>\n",
       "    <tr style=\"text-align: right;\">\n",
       "      <th></th>\n",
       "      <th>title</th>\n",
       "      <th>run_t</th>\n",
       "      <th>languages</th>\n",
       "      <th>genre</th>\n",
       "    </tr>\n",
       "  </thead>\n",
       "  <tbody>\n",
       "    <tr>\n",
       "      <th>0</th>\n",
       "      <td>A Rainy Day in New York</td>\n",
       "      <td>92</td>\n",
       "      <td>[English]</td>\n",
       "      <td>[Comedy, Romance]</td>\n",
       "    </tr>\n",
       "    <tr>\n",
       "      <th>1</th>\n",
       "      <td>Murder Manual</td>\n",
       "      <td>91</td>\n",
       "      <td>[English]</td>\n",
       "      <td>[Horror, Thriller]</td>\n",
       "    </tr>\n",
       "  </tbody>\n",
       "</table>\n",
       "</div>"
      ],
      "text/plain": [
       "                     title run_t  languages               genre\n",
       "0  A Rainy Day in New York    92  [English]   [Comedy, Romance]\n",
       "1            Murder Manual    91  [English]  [Horror, Thriller]"
      ]
     },
     "execution_count": 23,
     "metadata": {},
     "output_type": "execute_result"
    }
   ],
   "source": [
    "new_movie_df=movie_df[[\"title\",\"run_t\", \"languages\", \"genre\"]]\n",
    "new_movie_df.head(2)"
   ]
  },
  {
   "cell_type": "code",
   "execution_count": 24,
   "metadata": {},
   "outputs": [],
   "source": [
    "#title & actors normalized tables for each columns \n",
    "counter=0\n",
    "titles_to_expand_match_actors = []\n",
    "for actors_l in actors_l_of_lists:\n",
    "    for title in range(0,len(actors_l)):\n",
    "        titles_to_expand_match_actors.append(titles_to_list[counter])\n",
    "    counter += 1\n",
    "#titles_to_expand_match_actors\n",
    "\n",
    "actors_unpacked_to_outer_list = []\n",
    "for actors_l in actors_l_of_lists:\n",
    "    #print(actors_list)\n",
    "    for actors in actors_l:\n",
    "        actors_unpacked_to_outer_list.append(actors)\n",
    "#actors_unpacked_to_outer_list"
   ]
  },
  {
   "cell_type": "code",
   "execution_count": null,
   "metadata": {},
   "outputs": [],
   "source": [
    "actors_associated_with_titles_df = pd.DataFrame({'Title': titles_to_expand_match_actors,\n",
    "                                                 'Performer': actors_unpacked_to_outer_list\n",
    "                                                }\n",
    "                                               )\n",
    "actors_associated_with_titles_df.head()"
   ]
  },
  {
   "cell_type": "code",
   "execution_count": null,
   "metadata": {},
   "outputs": [],
   "source": []
  },
  {
   "cell_type": "code",
   "execution_count": null,
   "metadata": {},
   "outputs": [],
   "source": [
    "actors_associated_with_titles_df.info()"
   ]
  },
  {
   "cell_type": "code",
   "execution_count": null,
   "metadata": {},
   "outputs": [],
   "source": [
    "actors_associated_with_titles_df.to_csv('actors1.csv', index = False)\n",
    "pd.read_csv('actors1.csv')"
   ]
  },
  {
   "cell_type": "code",
   "execution_count": null,
   "metadata": {},
   "outputs": [],
   "source": [
    "#title & genres\n",
    "counter=0\n",
    "titles_to_expand_match_genres = []\n",
    "for genre_l in genres_l_of_lists:\n",
    "    for title in range(0,len(genre_l)):\n",
    "        titles_to_expand_match_genres.append(titles_to_list[counter])\n",
    "    counter += 1\n",
    "# movie titles are expanded to match with different actors played in the movies   \n",
    "#titles_to_expand_match_genres\n",
    "\n",
    "genres_unpacked_to_outer_list = []\n",
    "for genres_l in genres_l_of_lists:\n",
    "    #print(actors_list)\n",
    "    for genres in genres_l:\n",
    "        genres_unpacked_to_outer_list.append(genres)\n",
    "#genres_unpacked_to_outer_list\n",
    "#titles_to_expand_match_genres"
   ]
  },
  {
   "cell_type": "code",
   "execution_count": null,
   "metadata": {},
   "outputs": [],
   "source": [
    "genres_associated_with_titles_df = pd.DataFrame({'Title': titles_to_expand_match_genres,\n",
    "                                                 'Genre': genres_unpacked_to_outer_list\n",
    "                                                }\n",
    "                                               )\n",
    "genres_associated_with_titles_df.head(5)"
   ]
  },
  {
   "cell_type": "code",
   "execution_count": null,
   "metadata": {},
   "outputs": [],
   "source": [
    "#genres_associated_with_titles_df.to_csv('genres1.csv', index = False)\n",
    "# pd.read_csv('genres1.csv')"
   ]
  },
  {
   "cell_type": "code",
   "execution_count": null,
   "metadata": {},
   "outputs": [],
   "source": [
    "#title & language\n",
    "counter=0\n",
    "titles_to_expand_match_langs = []\n",
    "for lang_l in langs_l_of_lists:\n",
    "    for title in range(0,len(lang_l)):\n",
    "        titles_to_expand_match_langs.append(titles_to_list[counter])\n",
    "    counter += 1\n",
    "# movie titles are expanded to match with different actors played in the movies   \n",
    "titles_to_expand_match_langs\n",
    "\n",
    "langs_unpacked_to_outer_list = []\n",
    "for langs_l in langs_l_of_lists:\n",
    "    #print(actors_list)\n",
    "    for langs in langs_l:\n",
    "        langs_unpacked_to_outer_list.append(langs)\n",
    "#langs_unpacked_to_outer_list"
   ]
  },
  {
   "cell_type": "code",
   "execution_count": null,
   "metadata": {},
   "outputs": [],
   "source": [
    "langs_associated_with_titles_df = pd.DataFrame({'Title': titles_to_expand_match_langs,\n",
    "                                                 'Language': langs_unpacked_to_outer_list\n",
    "                                                }\n",
    "                                               )\n",
    "langs_associated_with_titles_df.head(5)"
   ]
  },
  {
   "cell_type": "code",
   "execution_count": null,
   "metadata": {},
   "outputs": [],
   "source": [
    "#langs_associated_with_titles_df.to_csv('languages1.csv', index = False)\n",
    "#pd.read_csv('languages1.csv')"
   ]
  },
  {
   "cell_type": "markdown",
   "metadata": {},
   "source": [
    "# 5. Cleaning, and preparing tables for ERD \n",
    "1. Creating Nflx_movie table PK unique title_id as pk used table with  \n",
    "   columns such as since Title and run_t are not duplicated to match row vals."
   ]
  },
  {
   "cell_type": "code",
   "execution_count": null,
   "metadata": {},
   "outputs": [],
   "source": [
    "run_t_df = movie_df[[\"title\",\"run_t\"]]\n",
    "run_t_df"
   ]
  },
  {
   "cell_type": "markdown",
   "metadata": {},
   "source": [
    "# 6. Unique Movie_titles for table, PK movie_id"
   ]
  },
  {
   "cell_type": "code",
   "execution_count": null,
   "metadata": {},
   "outputs": [],
   "source": [
    "runtime_table = run_t_df.reset_index().rename(columns = {\"index\": \"movie_id\"})\n",
    "runtime_table"
   ]
  },
  {
   "cell_type": "code",
   "execution_count": null,
   "metadata": {},
   "outputs": [],
   "source": [
    "# on movie title can be many titles \n",
    "unique_movie = runtime_table[\"title\"].value_counts()\n",
    "unique_movie"
   ]
  },
  {
   "cell_type": "code",
   "execution_count": null,
   "metadata": {},
   "outputs": [],
   "source": [
    "# unique_m_title.to_csv('languages1.csv', index = False)"
   ]
  },
  {
   "cell_type": "code",
   "execution_count": null,
   "metadata": {},
   "outputs": [],
   "source": [
    "runtime_table = unique_movie.reset_index()\n",
    "runtime_table.head(2)"
   ]
  },
  {
   "cell_type": "code",
   "execution_count": null,
   "metadata": {},
   "outputs": [],
   "source": [
    "movie_table = runtime_table.reset_index().rename(columns ={\"level_0\":\"title_id\"})\n",
    "movie_table.head(2)"
   ]
  },
  {
   "cell_type": "code",
   "execution_count": null,
   "metadata": {},
   "outputs": [],
   "source": [
    "nflx_movie = movie_table.rename(columns = {\"index\":\"title\",\"title\":\"numb_of_versions\"})\n",
    "nflx_movie.head(2)"
   ]
  },
  {
   "cell_type": "code",
   "execution_count": null,
   "metadata": {
    "scrolled": true
   },
   "outputs": [],
   "source": [
    "nflx_movie = nflx_movie[[\"title_id\",\"title\",\"numb_of_versions\"]]\n",
    "nflx_movie.head(3)"
   ]
  },
  {
   "cell_type": "code",
   "execution_count": null,
   "metadata": {},
   "outputs": [],
   "source": [
    "nflx_movie.to_csv('sql_data/nflx_movie.csv1', index = False)"
   ]
  },
  {
   "cell_type": "code",
   "execution_count": null,
   "metadata": {},
   "outputs": [],
   "source": [
    "#pd.read_csv('Nflx_movie.csv')"
   ]
  },
  {
   "cell_type": "markdown",
   "metadata": {},
   "source": [
    "## 7. Table 2  for ERD nflx_m_runtime"
   ]
  },
  {
   "cell_type": "code",
   "execution_count": null,
   "metadata": {},
   "outputs": [],
   "source": [
    "run_t_df = movie_df[[\"title\",\"run_t\"]]\n",
    "run_t_df"
   ]
  },
  {
   "cell_type": "code",
   "execution_count": null,
   "metadata": {},
   "outputs": [],
   "source": [
    "run_t_clean = run_t_df.fillna(0)\n",
    "run_t_clean"
   ]
  },
  {
   "cell_type": "code",
   "execution_count": null,
   "metadata": {},
   "outputs": [],
   "source": [
    "print(run_t_clean.dtypes)\n"
   ]
  },
  {
   "cell_type": "code",
   "execution_count": null,
   "metadata": {},
   "outputs": [],
   "source": [
    "runtime_table = run_t_clean.reset_index().rename(columns = {\"index\": \"r_time_id\"})\n",
    "runtime_table"
   ]
  },
  {
   "cell_type": "code",
   "execution_count": null,
   "metadata": {},
   "outputs": [],
   "source": [
    "runtime_table.info()"
   ]
  },
  {
   "cell_type": "code",
   "execution_count": null,
   "metadata": {},
   "outputs": [],
   "source": []
  },
  {
   "cell_type": "code",
   "execution_count": null,
   "metadata": {},
   "outputs": [],
   "source": [
    "#runtime_table[\"run_t\"] = pd.to_numeric(runtime_table[\"run_t\"])\n",
    "runtime_table.drop(runtime_table.index[18957])"
   ]
  },
  {
   "cell_type": "code",
   "execution_count": null,
   "metadata": {},
   "outputs": [],
   "source": [
    "print(runtime_table.dtypes)"
   ]
  },
  {
   "cell_type": "code",
   "execution_count": null,
   "metadata": {},
   "outputs": [],
   "source": [
    "runtime_table['run_t'] = pd.to_numeric(runtime_table['run_t'], errors = 'coerce')\n",
    "# df['mix_col'] = pd.to_numeric(df['mix_col'], errors='coerce')"
   ]
  },
  {
   "cell_type": "code",
   "execution_count": null,
   "metadata": {},
   "outputs": [],
   "source": [
    "runtime_table"
   ]
  },
  {
   "cell_type": "code",
   "execution_count": null,
   "metadata": {},
   "outputs": [],
   "source": [
    "print(runtime_table.dtypes)"
   ]
  },
  {
   "cell_type": "code",
   "execution_count": null,
   "metadata": {},
   "outputs": [],
   "source": [
    "unique_time = runtime_table[\"run_t\"].value_counts()\n",
    "unique_time"
   ]
  },
  {
   "cell_type": "code",
   "execution_count": null,
   "metadata": {},
   "outputs": [],
   "source": [
    "u_runtime_table = unique_time.reset_index()\n",
    "u_runtime_table.head(5)"
   ]
  },
  {
   "cell_type": "code",
   "execution_count": null,
   "metadata": {},
   "outputs": [],
   "source": [
    "u_rt_table = u_runtime_table.reset_index().rename(columns ={\"level_0\":\"rt_id\"})\n",
    "u_rt_table.head(2)"
   ]
  },
  {
   "cell_type": "code",
   "execution_count": null,
   "metadata": {},
   "outputs": [],
   "source": [
    "nflx_rt = u_rt_table.rename(columns = {\"index\":\"r_time\",\"run_t\":\"occurrences\"})\n",
    "nflx_rt.head(2)"
   ]
  },
  {
   "cell_type": "code",
   "execution_count": null,
   "metadata": {},
   "outputs": [],
   "source": [
    "nflx_m_runtime = nflx_rt[[\"rt_id\",\"r_time\",\"occurrences\"]]\n",
    "nflx_m_runtime.head(3)"
   ]
  },
  {
   "cell_type": "code",
   "execution_count": null,
   "metadata": {},
   "outputs": [],
   "source": [
    "nflx_m_runtime.to_csv('sql_data/nflx_m_runtime.csv', index = False)"
   ]
  },
  {
   "cell_type": "code",
   "execution_count": null,
   "metadata": {},
   "outputs": [],
   "source": [
    "print(nflx_m_runtime.dtypes)"
   ]
  },
  {
   "cell_type": "markdown",
   "metadata": {},
   "source": [
    "# 8. Table 3 nflx_actors for ERD  unque actors"
   ]
  },
  {
   "cell_type": "code",
   "execution_count": null,
   "metadata": {},
   "outputs": [],
   "source": [
    "actors_table = actors_associated_with_titles_df\n",
    "actors_table.head(2)"
   ]
  },
  {
   "cell_type": "code",
   "execution_count": null,
   "metadata": {},
   "outputs": [],
   "source": [
    "# actors_t = run_t_df.reset_index().rename(columns = {\"index\": \"movie_id\"})\n",
    "a_t = actors_table.reset_index()\n",
    "a_t"
   ]
  },
  {
   "cell_type": "code",
   "execution_count": null,
   "metadata": {},
   "outputs": [],
   "source": [
    "# actors_t = run_t_df.reset_index().rename(columns = {\"index\": \"movie_id\"})\n",
    "a_t = actors_table.reset_index()\n",
    "a_t"
   ]
  },
  {
   "cell_type": "code",
   "execution_count": null,
   "metadata": {},
   "outputs": [],
   "source": [
    "perf_table = a_t.rename(columns= {\"index\":\"actor_id\"})\n",
    "perf_table "
   ]
  },
  {
   "cell_type": "code",
   "execution_count": null,
   "metadata": {},
   "outputs": [],
   "source": [
    "uniq_perf = perf_table[\"Performer\"].value_counts()\n",
    "uniq_perf"
   ]
  },
  {
   "cell_type": "code",
   "execution_count": null,
   "metadata": {},
   "outputs": [],
   "source": [
    "to_set_ind = uniq_perf.reset_index()\n",
    "to_set_ind"
   ]
  },
  {
   "cell_type": "code",
   "execution_count": null,
   "metadata": {},
   "outputs": [],
   "source": [
    "actor_t = to_set_ind.reset_index().rename(columns ={\"level_0\":\"actor_id\"})\n",
    "actor_t"
   ]
  },
  {
   "cell_type": "code",
   "execution_count": null,
   "metadata": {},
   "outputs": [],
   "source": [
    "nflx_actors_b = actor_t.rename(columns = {\"index\":\"actors\",\"Performer\":\"appearance\"})\n",
    "nflx_actors_b"
   ]
  },
  {
   "cell_type": "code",
   "execution_count": null,
   "metadata": {},
   "outputs": [],
   "source": [
    "nflx_actors = nflx_actors_b.drop([0])"
   ]
  },
  {
   "cell_type": "code",
   "execution_count": null,
   "metadata": {},
   "outputs": [],
   "source": [
    "nflx_actors.to_csv(\"sql_data/nflx_actors.csv\", index = False)\n",
    "# nflx_m_runtime.to_csv('sql_data/nflx_m_runtime.csv', index = False)"
   ]
  },
  {
   "cell_type": "code",
   "execution_count": null,
   "metadata": {},
   "outputs": [],
   "source": [
    "print(nflx_actors.dtypes)"
   ]
  },
  {
   "cell_type": "markdown",
   "metadata": {},
   "source": [
    "# 9. Table 4. Language table "
   ]
  },
  {
   "cell_type": "code",
   "execution_count": null,
   "metadata": {},
   "outputs": [],
   "source": [
    "language_table = langs_associated_with_titles_df\n",
    "language_table.head(2)"
   ]
  },
  {
   "cell_type": "code",
   "execution_count": null,
   "metadata": {},
   "outputs": [],
   "source": [
    "language_table.info()"
   ]
  },
  {
   "cell_type": "code",
   "execution_count": null,
   "metadata": {},
   "outputs": [],
   "source": [
    "l_t = language_table.reset_index()\n",
    "l_t"
   ]
  },
  {
   "cell_type": "code",
   "execution_count": null,
   "metadata": {},
   "outputs": [],
   "source": [
    "lang_table = l_t.rename(columns= {\"index\":\"lang_id\"})\n",
    "lang_table"
   ]
  },
  {
   "cell_type": "code",
   "execution_count": null,
   "metadata": {},
   "outputs": [],
   "source": [
    "uniq_lang = lang_table[\"Language\"].value_counts()\n",
    "uniq_lang"
   ]
  },
  {
   "cell_type": "code",
   "execution_count": null,
   "metadata": {},
   "outputs": [],
   "source": [
    "to_set_idx = uniq_lang.reset_index()\n",
    "to_set_idx"
   ]
  },
  {
   "cell_type": "code",
   "execution_count": null,
   "metadata": {},
   "outputs": [],
   "source": [
    "lang_t = to_set_idx.reset_index().rename(columns ={\"level_0\":\"lang_id\"})\n",
    "lang_t"
   ]
  },
  {
   "cell_type": "code",
   "execution_count": null,
   "metadata": {},
   "outputs": [],
   "source": [
    "nflx_langs = lang_t.rename(columns = {\"index\":\"languages\", \"Language\":\"frequency\"})\n",
    "nflx_langs"
   ]
  },
  {
   "cell_type": "code",
   "execution_count": null,
   "metadata": {},
   "outputs": [],
   "source": [
    "nflx_languages = nflx_langs[[\"lang_id\",\"languages\",\"frequency\"]]\n",
    "nflx_languages"
   ]
  },
  {
   "cell_type": "code",
   "execution_count": null,
   "metadata": {},
   "outputs": [],
   "source": [
    "nflx_languages.to_csv('sql_data/nflx_languages.csv', index = False)"
   ]
  },
  {
   "cell_type": "code",
   "execution_count": null,
   "metadata": {},
   "outputs": [],
   "source": [
    "print(nflx_languages.dtypes)"
   ]
  },
  {
   "cell_type": "markdown",
   "metadata": {},
   "source": [
    "# 10. Table5 nflx_genre for ERD"
   ]
  },
  {
   "cell_type": "code",
   "execution_count": null,
   "metadata": {},
   "outputs": [],
   "source": [
    "genre_table = genres_associated_with_titles_df\n",
    "genre_table.head()"
   ]
  },
  {
   "cell_type": "code",
   "execution_count": null,
   "metadata": {},
   "outputs": [],
   "source": [
    "g_t = genre_table.reset_index()\n",
    "g_t"
   ]
  },
  {
   "cell_type": "code",
   "execution_count": null,
   "metadata": {},
   "outputs": [],
   "source": [
    "genre_table = g_t.rename(columns= {\"index\":\"genre_id\"})\n",
    "genre_table"
   ]
  },
  {
   "cell_type": "code",
   "execution_count": null,
   "metadata": {},
   "outputs": [],
   "source": [
    "genre_table.info()"
   ]
  },
  {
   "cell_type": "code",
   "execution_count": null,
   "metadata": {},
   "outputs": [],
   "source": [
    "uniq_genre = genre_table[\"Genre\"].value_counts()\n",
    "uniq_genre"
   ]
  },
  {
   "cell_type": "code",
   "execution_count": null,
   "metadata": {},
   "outputs": [],
   "source": [
    "to_set_idx = uniq_genre.reset_index()\n",
    "to_set_idx"
   ]
  },
  {
   "cell_type": "code",
   "execution_count": null,
   "metadata": {},
   "outputs": [],
   "source": [
    "genre_t = to_set_idx.reset_index().rename(columns ={\"level_0\":\"genre_id\"})\n",
    "genre_t"
   ]
  },
  {
   "cell_type": "code",
   "execution_count": null,
   "metadata": {},
   "outputs": [],
   "source": [
    "nflx_genres = genre_t.rename(columns = {\"index\":\"genre\",\"Genre\":\"freq\"})\n",
    "nflx_genres"
   ]
  },
  {
   "cell_type": "code",
   "execution_count": null,
   "metadata": {},
   "outputs": [],
   "source": [
    "nflx_genres.to_csv(\"sql_data/nflx_genres.csv\", index = False)"
   ]
  },
  {
   "cell_type": "code",
   "execution_count": null,
   "metadata": {},
   "outputs": [],
   "source": [
    "print(nflx_genres.dtypes)"
   ]
  },
  {
   "cell_type": "markdown",
   "metadata": {},
   "source": [
    "# 11. Table6. Genre Table for ERD "
   ]
  },
  {
   "cell_type": "code",
   "execution_count": null,
   "metadata": {},
   "outputs": [],
   "source": [
    "genre_table = genres_associated_with_titles_df\n",
    "genre_table"
   ]
  },
  {
   "cell_type": "code",
   "execution_count": null,
   "metadata": {},
   "outputs": [],
   "source": [
    "genre_table.to_csv(\"sql_data/genre_table1.csv\", index = False)"
   ]
  },
  {
   "cell_type": "markdown",
   "metadata": {},
   "source": [
    "# 12. Table 7 for ERD"
   ]
  },
  {
   "cell_type": "code",
   "execution_count": null,
   "metadata": {},
   "outputs": [],
   "source": [
    "language_table = langs_associated_with_titles_df\n",
    "language_table"
   ]
  },
  {
   "cell_type": "code",
   "execution_count": null,
   "metadata": {},
   "outputs": [],
   "source": [
    "language_table.to_csv(\"sql_data/language_table.csv\", index = False)"
   ]
  },
  {
   "cell_type": "markdown",
   "metadata": {},
   "source": [
    "# 13. Table8  for ERD"
   ]
  },
  {
   "cell_type": "code",
   "execution_count": null,
   "metadata": {},
   "outputs": [],
   "source": [
    "runtime_table"
   ]
  },
  {
   "cell_type": "code",
   "execution_count": null,
   "metadata": {},
   "outputs": [],
   "source": [
    "runtime_table_cln = runtime_table.dropna()\n",
    "runtime_table_cln"
   ]
  },
  {
   "cell_type": "code",
   "execution_count": null,
   "metadata": {},
   "outputs": [],
   "source": [
    "runtime_table.to_csv(\"sql_data/runtime_table_cln.csv\", index = False)"
   ]
  },
  {
   "cell_type": "markdown",
   "metadata": {},
   "source": [
    "# 14. Table9 for ERD"
   ]
  },
  {
   "cell_type": "code",
   "execution_count": null,
   "metadata": {},
   "outputs": [],
   "source": [
    "actors_table = actors_associated_with_titles_df\n",
    "actors_table.head(2)"
   ]
  },
  {
   "cell_type": "code",
   "execution_count": null,
   "metadata": {},
   "outputs": [],
   "source": [
    "actors_table.to_csv(\"sql_data/runtime_table_cln.csv\", index = False)"
   ]
  },
  {
   "cell_type": "markdown",
   "metadata": {},
   "source": [
    "# 15. Fixed delimiter errors Importing tables into PostGress"
   ]
  },
  {
   "cell_type": "code",
   "execution_count": null,
   "metadata": {},
   "outputs": [],
   "source": [
    "#cln_csv = pd.read_csv('sql_data/nflx_movie1.csv')"
   ]
  },
  {
   "cell_type": "code",
   "execution_count": null,
   "metadata": {},
   "outputs": [],
   "source": [
    "#cln_csv.tail(10)"
   ]
  },
  {
   "cell_type": "code",
   "execution_count": null,
   "metadata": {},
   "outputs": [],
   "source": [
    "cln_csv.columns"
   ]
  },
  {
   "cell_type": "code",
   "execution_count": null,
   "metadata": {},
   "outputs": [],
   "source": [
    "result = cln_csv.iloc[[18262],[1]]\n",
    "result = cln_csv.iloc[[25427],[1]]\n",
    "result = cln_csv.iloc[[43625],[1]]\n",
    "result"
   ]
  },
  {
   "cell_type": "code",
   "execution_count": null,
   "metadata": {},
   "outputs": [],
   "source": [
    "cln_csv.loc[(cln_csv.title == \"Feudin', Fussin' and A-Fightin'\"),\"title\"]=\"Feudin Fussin and A-Fightin\"\n",
    "cln_csv.loc[(cln_csv.title == \"God Said, 'Ha!'\"),\"title\"]=\"God Said. 'Ha!'\"\n",
    "cln_csv.loc[(cln_csv.title == \"'Sheba, Baby'\"),\"title\"]=\"'Sheba Baby'\"\n",
    "\n",
    "cln_csv"
   ]
  },
  {
   "cell_type": "code",
   "execution_count": null,
   "metadata": {},
   "outputs": [],
   "source": [
    "cln_csv.to_csv(\"sql_data/nflx_movie.csv\", index = False)\n"
   ]
  },
  {
   "cell_type": "code",
   "execution_count": null,
   "metadata": {},
   "outputs": [],
   "source": [
    "title_id=nflx_movie[\"title_id\"]\n",
    "title_id"
   ]
  },
  {
   "cell_type": "code",
   "execution_count": null,
   "metadata": {},
   "outputs": [],
   "source": []
  },
  {
   "cell_type": "code",
   "execution_count": null,
   "metadata": {},
   "outputs": [],
   "source": []
  },
  {
   "cell_type": "code",
   "execution_count": null,
   "metadata": {},
   "outputs": [],
   "source": []
  },
  {
   "cell_type": "code",
   "execution_count": null,
   "metadata": {},
   "outputs": [],
   "source": []
  }
 ],
 "metadata": {
  "kernelspec": {
   "display_name": "Python [conda env:PythonData]",
   "language": "python",
   "name": "conda-env-PythonData-py"
  },
  "language_info": {
   "codemirror_mode": {
    "name": "ipython",
    "version": 3
   },
   "file_extension": ".py",
   "mimetype": "text/x-python",
   "name": "python",
   "nbconvert_exporter": "python",
   "pygments_lexer": "ipython3",
   "version": "3.6.10"
  }
 },
 "nbformat": 4,
 "nbformat_minor": 4
}
